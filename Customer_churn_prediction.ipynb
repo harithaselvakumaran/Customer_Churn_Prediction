{
  "nbformat": 4,
  "nbformat_minor": 0,
  "metadata": {
    "colab": {
      "name": "Customer churn prediction.ipynb",
      "provenance": [],
      "authorship_tag": "ABX9TyOxj19pGqmA7W+sIL8Hd/is",
      "include_colab_link": true
    },
    "kernelspec": {
      "name": "python3",
      "display_name": "Python 3"
    },
    "language_info": {
      "name": "python"
    }
  },
  "cells": [
    {
      "cell_type": "markdown",
      "metadata": {
        "id": "view-in-github",
        "colab_type": "text"
      },
      "source": [
        "<a href=\"https://colab.research.google.com/github/harithaselvakumaran/Customer_Churn_Prediction/blob/main/Customer_churn_prediction.ipynb\" target=\"_parent\"><img src=\"https://colab.research.google.com/assets/colab-badge.svg\" alt=\"Open In Colab\"/></a>"
      ]
    },
    {
      "cell_type": "code",
      "metadata": {
        "id": "OoBzXWGVmBq4"
      },
      "source": [
        "import numpy as np\n",
        "import pandas as pd\n",
        "from matplotlib import pyplot as plt"
      ],
      "execution_count": null,
      "outputs": []
    },
    {
      "cell_type": "code",
      "metadata": {
        "colab": {
          "resources": {
            "http://localhost:8080/nbextensions/google.colab/files.js": {
              "data": "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",
              "ok": true,
              "headers": [
                [
                  "content-type",
                  "application/javascript"
                ]
              ],
              "status": 200,
              "status_text": ""
            }
          },
          "base_uri": "https://localhost:8080/",
          "height": 73
        },
        "id": "TRS0BE6jmN4i",
        "outputId": "203b86fc-680a-4512-be3f-1d9d5b287132"
      },
      "source": [
        "from google.colab import files\n",
        "uploaded = files.upload()"
      ],
      "execution_count": null,
      "outputs": [
        {
          "output_type": "display_data",
          "data": {
            "text/html": [
              "\n",
              "     <input type=\"file\" id=\"files-58205d1a-0d8b-4a51-8484-e27e21e9a285\" name=\"files[]\" multiple disabled\n",
              "        style=\"border:none\" />\n",
              "     <output id=\"result-58205d1a-0d8b-4a51-8484-e27e21e9a285\">\n",
              "      Upload widget is only available when the cell has been executed in the\n",
              "      current browser session. Please rerun this cell to enable.\n",
              "      </output>\n",
              "      <script src=\"/nbextensions/google.colab/files.js\"></script> "
            ],
            "text/plain": [
              "<IPython.core.display.HTML object>"
            ]
          },
          "metadata": {}
        },
        {
          "output_type": "stream",
          "name": "stdout",
          "text": [
            "Saving Telco-Customer-Churn.csv to Telco-Customer-Churn.csv\n"
          ]
        }
      ]
    },
    {
      "cell_type": "code",
      "metadata": {
        "colab": {
          "base_uri": "https://localhost:8080/",
          "height": 307
        },
        "id": "KbBIgSv0nxj5",
        "outputId": "001f6628-11ca-4fcf-e72d-6331892e83e6"
      },
      "source": [
        "df = pd.read_csv('Telco-Customer-Churn.csv')\n",
        "df.head()"
      ],
      "execution_count": null,
      "outputs": [
        {
          "output_type": "execute_result",
          "data": {
            "text/html": [
              "<div>\n",
              "<style scoped>\n",
              "    .dataframe tbody tr th:only-of-type {\n",
              "        vertical-align: middle;\n",
              "    }\n",
              "\n",
              "    .dataframe tbody tr th {\n",
              "        vertical-align: top;\n",
              "    }\n",
              "\n",
              "    .dataframe thead th {\n",
              "        text-align: right;\n",
              "    }\n",
              "</style>\n",
              "<table border=\"1\" class=\"dataframe\">\n",
              "  <thead>\n",
              "    <tr style=\"text-align: right;\">\n",
              "      <th></th>\n",
              "      <th>customerID</th>\n",
              "      <th>gender</th>\n",
              "      <th>SeniorCitizen</th>\n",
              "      <th>Partner</th>\n",
              "      <th>Dependents</th>\n",
              "      <th>tenure</th>\n",
              "      <th>PhoneService</th>\n",
              "      <th>MultipleLines</th>\n",
              "      <th>InternetService</th>\n",
              "      <th>OnlineSecurity</th>\n",
              "      <th>OnlineBackup</th>\n",
              "      <th>DeviceProtection</th>\n",
              "      <th>TechSupport</th>\n",
              "      <th>StreamingTV</th>\n",
              "      <th>StreamingMovies</th>\n",
              "      <th>Contract</th>\n",
              "      <th>PaperlessBilling</th>\n",
              "      <th>PaymentMethod</th>\n",
              "      <th>MonthlyCharges</th>\n",
              "      <th>TotalCharges</th>\n",
              "      <th>Churn</th>\n",
              "    </tr>\n",
              "  </thead>\n",
              "  <tbody>\n",
              "    <tr>\n",
              "      <th>0</th>\n",
              "      <td>7590-VHVEG</td>\n",
              "      <td>Female</td>\n",
              "      <td>0</td>\n",
              "      <td>Yes</td>\n",
              "      <td>No</td>\n",
              "      <td>1</td>\n",
              "      <td>No</td>\n",
              "      <td>No phone service</td>\n",
              "      <td>DSL</td>\n",
              "      <td>No</td>\n",
              "      <td>Yes</td>\n",
              "      <td>No</td>\n",
              "      <td>No</td>\n",
              "      <td>No</td>\n",
              "      <td>No</td>\n",
              "      <td>Month-to-month</td>\n",
              "      <td>Yes</td>\n",
              "      <td>Electronic check</td>\n",
              "      <td>29.85</td>\n",
              "      <td>29.85</td>\n",
              "      <td>No</td>\n",
              "    </tr>\n",
              "    <tr>\n",
              "      <th>1</th>\n",
              "      <td>5575-GNVDE</td>\n",
              "      <td>Male</td>\n",
              "      <td>0</td>\n",
              "      <td>No</td>\n",
              "      <td>No</td>\n",
              "      <td>34</td>\n",
              "      <td>Yes</td>\n",
              "      <td>No</td>\n",
              "      <td>DSL</td>\n",
              "      <td>Yes</td>\n",
              "      <td>No</td>\n",
              "      <td>Yes</td>\n",
              "      <td>No</td>\n",
              "      <td>No</td>\n",
              "      <td>No</td>\n",
              "      <td>One year</td>\n",
              "      <td>No</td>\n",
              "      <td>Mailed check</td>\n",
              "      <td>56.95</td>\n",
              "      <td>1889.5</td>\n",
              "      <td>No</td>\n",
              "    </tr>\n",
              "    <tr>\n",
              "      <th>2</th>\n",
              "      <td>3668-QPYBK</td>\n",
              "      <td>Male</td>\n",
              "      <td>0</td>\n",
              "      <td>No</td>\n",
              "      <td>No</td>\n",
              "      <td>2</td>\n",
              "      <td>Yes</td>\n",
              "      <td>No</td>\n",
              "      <td>DSL</td>\n",
              "      <td>Yes</td>\n",
              "      <td>Yes</td>\n",
              "      <td>No</td>\n",
              "      <td>No</td>\n",
              "      <td>No</td>\n",
              "      <td>No</td>\n",
              "      <td>Month-to-month</td>\n",
              "      <td>Yes</td>\n",
              "      <td>Mailed check</td>\n",
              "      <td>53.85</td>\n",
              "      <td>108.15</td>\n",
              "      <td>Yes</td>\n",
              "    </tr>\n",
              "    <tr>\n",
              "      <th>3</th>\n",
              "      <td>7795-CFOCW</td>\n",
              "      <td>Male</td>\n",
              "      <td>0</td>\n",
              "      <td>No</td>\n",
              "      <td>No</td>\n",
              "      <td>45</td>\n",
              "      <td>No</td>\n",
              "      <td>No phone service</td>\n",
              "      <td>DSL</td>\n",
              "      <td>Yes</td>\n",
              "      <td>No</td>\n",
              "      <td>Yes</td>\n",
              "      <td>Yes</td>\n",
              "      <td>No</td>\n",
              "      <td>No</td>\n",
              "      <td>One year</td>\n",
              "      <td>No</td>\n",
              "      <td>Bank transfer (automatic)</td>\n",
              "      <td>42.30</td>\n",
              "      <td>1840.75</td>\n",
              "      <td>No</td>\n",
              "    </tr>\n",
              "    <tr>\n",
              "      <th>4</th>\n",
              "      <td>9237-HQITU</td>\n",
              "      <td>Female</td>\n",
              "      <td>0</td>\n",
              "      <td>No</td>\n",
              "      <td>No</td>\n",
              "      <td>2</td>\n",
              "      <td>Yes</td>\n",
              "      <td>No</td>\n",
              "      <td>Fiber optic</td>\n",
              "      <td>No</td>\n",
              "      <td>No</td>\n",
              "      <td>No</td>\n",
              "      <td>No</td>\n",
              "      <td>No</td>\n",
              "      <td>No</td>\n",
              "      <td>Month-to-month</td>\n",
              "      <td>Yes</td>\n",
              "      <td>Electronic check</td>\n",
              "      <td>70.70</td>\n",
              "      <td>151.65</td>\n",
              "      <td>Yes</td>\n",
              "    </tr>\n",
              "  </tbody>\n",
              "</table>\n",
              "</div>"
            ],
            "text/plain": [
              "   customerID  gender  SeniorCitizen  ... MonthlyCharges TotalCharges  Churn\n",
              "0  7590-VHVEG  Female              0  ...          29.85        29.85     No\n",
              "1  5575-GNVDE    Male              0  ...          56.95       1889.5     No\n",
              "2  3668-QPYBK    Male              0  ...          53.85       108.15    Yes\n",
              "3  7795-CFOCW    Male              0  ...          42.30      1840.75     No\n",
              "4  9237-HQITU  Female              0  ...          70.70       151.65    Yes\n",
              "\n",
              "[5 rows x 21 columns]"
            ]
          },
          "metadata": {},
          "execution_count": 116
        }
      ]
    },
    {
      "cell_type": "code",
      "metadata": {
        "id": "e4eIWizipe2b"
      },
      "source": [
        "df = df.drop('customerID', axis=1)"
      ],
      "execution_count": null,
      "outputs": []
    },
    {
      "cell_type": "code",
      "metadata": {
        "colab": {
          "base_uri": "https://localhost:8080/"
        },
        "id": "XstGBV83GqWa",
        "outputId": "2a93dfd7-ff5a-433e-f58e-5547186b2ffa"
      },
      "source": [
        "df['Churn'].value_counts()"
      ],
      "execution_count": null,
      "outputs": [
        {
          "output_type": "execute_result",
          "data": {
            "text/plain": [
              "No     5174\n",
              "Yes    1869\n",
              "Name: Churn, dtype: int64"
            ]
          },
          "metadata": {},
          "execution_count": 118
        }
      ]
    },
    {
      "cell_type": "code",
      "metadata": {
        "colab": {
          "base_uri": "https://localhost:8080/"
        },
        "id": "llaLlA3Ap1ju",
        "outputId": "a672c5e9-a707-4737-b5f7-ebb0231ed1b0"
      },
      "source": [
        "df.info()"
      ],
      "execution_count": null,
      "outputs": [
        {
          "output_type": "stream",
          "name": "stdout",
          "text": [
            "<class 'pandas.core.frame.DataFrame'>\n",
            "RangeIndex: 7043 entries, 0 to 7042\n",
            "Data columns (total 20 columns):\n",
            " #   Column            Non-Null Count  Dtype  \n",
            "---  ------            --------------  -----  \n",
            " 0   gender            7043 non-null   object \n",
            " 1   SeniorCitizen     7043 non-null   int64  \n",
            " 2   Partner           7043 non-null   object \n",
            " 3   Dependents        7043 non-null   object \n",
            " 4   tenure            7043 non-null   int64  \n",
            " 5   PhoneService      7043 non-null   object \n",
            " 6   MultipleLines     7043 non-null   object \n",
            " 7   InternetService   7043 non-null   object \n",
            " 8   OnlineSecurity    7043 non-null   object \n",
            " 9   OnlineBackup      7043 non-null   object \n",
            " 10  DeviceProtection  7043 non-null   object \n",
            " 11  TechSupport       7043 non-null   object \n",
            " 12  StreamingTV       7043 non-null   object \n",
            " 13  StreamingMovies   7043 non-null   object \n",
            " 14  Contract          7043 non-null   object \n",
            " 15  PaperlessBilling  7043 non-null   object \n",
            " 16  PaymentMethod     7043 non-null   object \n",
            " 17  MonthlyCharges    7043 non-null   float64\n",
            " 18  TotalCharges      7043 non-null   object \n",
            " 19  Churn             7043 non-null   object \n",
            "dtypes: float64(1), int64(2), object(17)\n",
            "memory usage: 1.1+ MB\n"
          ]
        }
      ]
    },
    {
      "cell_type": "code",
      "metadata": {
        "id": "_fXpyrnlp7-H",
        "colab": {
          "base_uri": "https://localhost:8080/"
        },
        "outputId": "ceea94eb-f351-4e49-89f2-a021df71020e"
      },
      "source": [
        "df.dtypes"
      ],
      "execution_count": null,
      "outputs": [
        {
          "output_type": "execute_result",
          "data": {
            "text/plain": [
              "gender               object\n",
              "SeniorCitizen         int64\n",
              "Partner              object\n",
              "Dependents           object\n",
              "tenure                int64\n",
              "PhoneService         object\n",
              "MultipleLines        object\n",
              "InternetService      object\n",
              "OnlineSecurity       object\n",
              "OnlineBackup         object\n",
              "DeviceProtection     object\n",
              "TechSupport          object\n",
              "StreamingTV          object\n",
              "StreamingMovies      object\n",
              "Contract             object\n",
              "PaperlessBilling     object\n",
              "PaymentMethod        object\n",
              "MonthlyCharges      float64\n",
              "TotalCharges         object\n",
              "Churn                object\n",
              "dtype: object"
            ]
          },
          "metadata": {},
          "execution_count": 121
        }
      ]
    },
    {
      "cell_type": "markdown",
      "metadata": {
        "id": "IilHeWYzzmFr"
      },
      "source": [
        "### Converting Total charges from string to int"
      ]
    },
    {
      "cell_type": "code",
      "metadata": {
        "colab": {
          "base_uri": "https://localhost:8080/"
        },
        "id": "GDzMQ4WYuYlP",
        "outputId": "a852e2f0-cc94-47dd-8d1c-7f8a54461105"
      },
      "source": [
        "df['MonthlyCharges'].values"
      ],
      "execution_count": null,
      "outputs": [
        {
          "output_type": "execute_result",
          "data": {
            "text/plain": [
              "array([ 29.85,  56.95,  53.85, ...,  29.6 ,  74.4 , 105.65])"
            ]
          },
          "metadata": {},
          "execution_count": 126
        }
      ]
    },
    {
      "cell_type": "code",
      "metadata": {
        "colab": {
          "base_uri": "https://localhost:8080/"
        },
        "id": "YntEt7zYybcH",
        "outputId": "39fe02f6-ff64-40bd-ecf3-08f40b7cd8f3"
      },
      "source": [
        "df['TotalCharges'].values[5].strip()"
      ],
      "execution_count": null,
      "outputs": [
        {
          "output_type": "execute_result",
          "data": {
            "application/vnd.google.colaboratory.intrinsic+json": {
              "type": "string"
            },
            "text/plain": [
              "'820.5'"
            ]
          },
          "metadata": {},
          "execution_count": 127
        }
      ]
    },
    {
      "cell_type": "code",
      "metadata": {
        "colab": {
          "base_uri": "https://localhost:8080/"
        },
        "id": "_FDGTjLFyjiC",
        "outputId": "9e82f3da-8440-4bf8-ab09-e21d3f20262b"
      },
      "source": [
        "df.shape"
      ],
      "execution_count": null,
      "outputs": [
        {
          "output_type": "execute_result",
          "data": {
            "text/plain": [
              "(7043, 20)"
            ]
          },
          "metadata": {},
          "execution_count": 128
        }
      ]
    },
    {
      "cell_type": "code",
      "metadata": {
        "colab": {
          "base_uri": "https://localhost:8080/"
        },
        "id": "BJ_eexlszY3F",
        "outputId": "747d337f-d23a-433c-e22b-14199232e5bd"
      },
      "source": [
        "df[pd.to_numeric(df['TotalCharges'],errors='coerce').isnull()]\n",
        "## You could directly use errors='coerce' which will replace all ' ' values Nan"
      ],
      "execution_count": null,
      "outputs": [
        {
          "output_type": "execute_result",
          "data": {
            "text/html": [
              "<div>\n",
              "<style scoped>\n",
              "    .dataframe tbody tr th:only-of-type {\n",
              "        vertical-align: middle;\n",
              "    }\n",
              "\n",
              "    .dataframe tbody tr th {\n",
              "        vertical-align: top;\n",
              "    }\n",
              "\n",
              "    .dataframe thead th {\n",
              "        text-align: right;\n",
              "    }\n",
              "</style>\n",
              "<table border=\"1\" class=\"dataframe\">\n",
              "  <thead>\n",
              "    <tr style=\"text-align: right;\">\n",
              "      <th></th>\n",
              "      <th>gender</th>\n",
              "      <th>SeniorCitizen</th>\n",
              "      <th>Partner</th>\n",
              "      <th>Dependents</th>\n",
              "      <th>tenure</th>\n",
              "      <th>PhoneService</th>\n",
              "      <th>MultipleLines</th>\n",
              "      <th>InternetService</th>\n",
              "      <th>OnlineSecurity</th>\n",
              "      <th>OnlineBackup</th>\n",
              "      <th>DeviceProtection</th>\n",
              "      <th>TechSupport</th>\n",
              "      <th>StreamingTV</th>\n",
              "      <th>StreamingMovies</th>\n",
              "      <th>Contract</th>\n",
              "      <th>PaperlessBilling</th>\n",
              "      <th>PaymentMethod</th>\n",
              "      <th>MonthlyCharges</th>\n",
              "      <th>TotalCharges</th>\n",
              "      <th>Churn</th>\n",
              "    </tr>\n",
              "  </thead>\n",
              "  <tbody>\n",
              "    <tr>\n",
              "      <th>488</th>\n",
              "      <td>Female</td>\n",
              "      <td>0</td>\n",
              "      <td>Yes</td>\n",
              "      <td>Yes</td>\n",
              "      <td>0</td>\n",
              "      <td>No</td>\n",
              "      <td>No phone service</td>\n",
              "      <td>DSL</td>\n",
              "      <td>Yes</td>\n",
              "      <td>No</td>\n",
              "      <td>Yes</td>\n",
              "      <td>Yes</td>\n",
              "      <td>Yes</td>\n",
              "      <td>No</td>\n",
              "      <td>Two year</td>\n",
              "      <td>Yes</td>\n",
              "      <td>Bank transfer (automatic)</td>\n",
              "      <td>52.55</td>\n",
              "      <td></td>\n",
              "      <td>No</td>\n",
              "    </tr>\n",
              "    <tr>\n",
              "      <th>753</th>\n",
              "      <td>Male</td>\n",
              "      <td>0</td>\n",
              "      <td>No</td>\n",
              "      <td>Yes</td>\n",
              "      <td>0</td>\n",
              "      <td>Yes</td>\n",
              "      <td>No</td>\n",
              "      <td>No</td>\n",
              "      <td>No internet service</td>\n",
              "      <td>No internet service</td>\n",
              "      <td>No internet service</td>\n",
              "      <td>No internet service</td>\n",
              "      <td>No internet service</td>\n",
              "      <td>No internet service</td>\n",
              "      <td>Two year</td>\n",
              "      <td>No</td>\n",
              "      <td>Mailed check</td>\n",
              "      <td>20.25</td>\n",
              "      <td></td>\n",
              "      <td>No</td>\n",
              "    </tr>\n",
              "    <tr>\n",
              "      <th>936</th>\n",
              "      <td>Female</td>\n",
              "      <td>0</td>\n",
              "      <td>Yes</td>\n",
              "      <td>Yes</td>\n",
              "      <td>0</td>\n",
              "      <td>Yes</td>\n",
              "      <td>No</td>\n",
              "      <td>DSL</td>\n",
              "      <td>Yes</td>\n",
              "      <td>Yes</td>\n",
              "      <td>Yes</td>\n",
              "      <td>No</td>\n",
              "      <td>Yes</td>\n",
              "      <td>Yes</td>\n",
              "      <td>Two year</td>\n",
              "      <td>No</td>\n",
              "      <td>Mailed check</td>\n",
              "      <td>80.85</td>\n",
              "      <td></td>\n",
              "      <td>No</td>\n",
              "    </tr>\n",
              "    <tr>\n",
              "      <th>1082</th>\n",
              "      <td>Male</td>\n",
              "      <td>0</td>\n",
              "      <td>Yes</td>\n",
              "      <td>Yes</td>\n",
              "      <td>0</td>\n",
              "      <td>Yes</td>\n",
              "      <td>Yes</td>\n",
              "      <td>No</td>\n",
              "      <td>No internet service</td>\n",
              "      <td>No internet service</td>\n",
              "      <td>No internet service</td>\n",
              "      <td>No internet service</td>\n",
              "      <td>No internet service</td>\n",
              "      <td>No internet service</td>\n",
              "      <td>Two year</td>\n",
              "      <td>No</td>\n",
              "      <td>Mailed check</td>\n",
              "      <td>25.75</td>\n",
              "      <td></td>\n",
              "      <td>No</td>\n",
              "    </tr>\n",
              "    <tr>\n",
              "      <th>1340</th>\n",
              "      <td>Female</td>\n",
              "      <td>0</td>\n",
              "      <td>Yes</td>\n",
              "      <td>Yes</td>\n",
              "      <td>0</td>\n",
              "      <td>No</td>\n",
              "      <td>No phone service</td>\n",
              "      <td>DSL</td>\n",
              "      <td>Yes</td>\n",
              "      <td>Yes</td>\n",
              "      <td>Yes</td>\n",
              "      <td>Yes</td>\n",
              "      <td>Yes</td>\n",
              "      <td>No</td>\n",
              "      <td>Two year</td>\n",
              "      <td>No</td>\n",
              "      <td>Credit card (automatic)</td>\n",
              "      <td>56.05</td>\n",
              "      <td></td>\n",
              "      <td>No</td>\n",
              "    </tr>\n",
              "    <tr>\n",
              "      <th>3331</th>\n",
              "      <td>Male</td>\n",
              "      <td>0</td>\n",
              "      <td>Yes</td>\n",
              "      <td>Yes</td>\n",
              "      <td>0</td>\n",
              "      <td>Yes</td>\n",
              "      <td>No</td>\n",
              "      <td>No</td>\n",
              "      <td>No internet service</td>\n",
              "      <td>No internet service</td>\n",
              "      <td>No internet service</td>\n",
              "      <td>No internet service</td>\n",
              "      <td>No internet service</td>\n",
              "      <td>No internet service</td>\n",
              "      <td>Two year</td>\n",
              "      <td>No</td>\n",
              "      <td>Mailed check</td>\n",
              "      <td>19.85</td>\n",
              "      <td></td>\n",
              "      <td>No</td>\n",
              "    </tr>\n",
              "    <tr>\n",
              "      <th>3826</th>\n",
              "      <td>Male</td>\n",
              "      <td>0</td>\n",
              "      <td>Yes</td>\n",
              "      <td>Yes</td>\n",
              "      <td>0</td>\n",
              "      <td>Yes</td>\n",
              "      <td>Yes</td>\n",
              "      <td>No</td>\n",
              "      <td>No internet service</td>\n",
              "      <td>No internet service</td>\n",
              "      <td>No internet service</td>\n",
              "      <td>No internet service</td>\n",
              "      <td>No internet service</td>\n",
              "      <td>No internet service</td>\n",
              "      <td>Two year</td>\n",
              "      <td>No</td>\n",
              "      <td>Mailed check</td>\n",
              "      <td>25.35</td>\n",
              "      <td></td>\n",
              "      <td>No</td>\n",
              "    </tr>\n",
              "    <tr>\n",
              "      <th>4380</th>\n",
              "      <td>Female</td>\n",
              "      <td>0</td>\n",
              "      <td>Yes</td>\n",
              "      <td>Yes</td>\n",
              "      <td>0</td>\n",
              "      <td>Yes</td>\n",
              "      <td>No</td>\n",
              "      <td>No</td>\n",
              "      <td>No internet service</td>\n",
              "      <td>No internet service</td>\n",
              "      <td>No internet service</td>\n",
              "      <td>No internet service</td>\n",
              "      <td>No internet service</td>\n",
              "      <td>No internet service</td>\n",
              "      <td>Two year</td>\n",
              "      <td>No</td>\n",
              "      <td>Mailed check</td>\n",
              "      <td>20.00</td>\n",
              "      <td></td>\n",
              "      <td>No</td>\n",
              "    </tr>\n",
              "    <tr>\n",
              "      <th>5218</th>\n",
              "      <td>Male</td>\n",
              "      <td>0</td>\n",
              "      <td>Yes</td>\n",
              "      <td>Yes</td>\n",
              "      <td>0</td>\n",
              "      <td>Yes</td>\n",
              "      <td>No</td>\n",
              "      <td>No</td>\n",
              "      <td>No internet service</td>\n",
              "      <td>No internet service</td>\n",
              "      <td>No internet service</td>\n",
              "      <td>No internet service</td>\n",
              "      <td>No internet service</td>\n",
              "      <td>No internet service</td>\n",
              "      <td>One year</td>\n",
              "      <td>Yes</td>\n",
              "      <td>Mailed check</td>\n",
              "      <td>19.70</td>\n",
              "      <td></td>\n",
              "      <td>No</td>\n",
              "    </tr>\n",
              "    <tr>\n",
              "      <th>6670</th>\n",
              "      <td>Female</td>\n",
              "      <td>0</td>\n",
              "      <td>Yes</td>\n",
              "      <td>Yes</td>\n",
              "      <td>0</td>\n",
              "      <td>Yes</td>\n",
              "      <td>Yes</td>\n",
              "      <td>DSL</td>\n",
              "      <td>No</td>\n",
              "      <td>Yes</td>\n",
              "      <td>Yes</td>\n",
              "      <td>Yes</td>\n",
              "      <td>Yes</td>\n",
              "      <td>No</td>\n",
              "      <td>Two year</td>\n",
              "      <td>No</td>\n",
              "      <td>Mailed check</td>\n",
              "      <td>73.35</td>\n",
              "      <td></td>\n",
              "      <td>No</td>\n",
              "    </tr>\n",
              "    <tr>\n",
              "      <th>6754</th>\n",
              "      <td>Male</td>\n",
              "      <td>0</td>\n",
              "      <td>No</td>\n",
              "      <td>Yes</td>\n",
              "      <td>0</td>\n",
              "      <td>Yes</td>\n",
              "      <td>Yes</td>\n",
              "      <td>DSL</td>\n",
              "      <td>Yes</td>\n",
              "      <td>Yes</td>\n",
              "      <td>No</td>\n",
              "      <td>Yes</td>\n",
              "      <td>No</td>\n",
              "      <td>No</td>\n",
              "      <td>Two year</td>\n",
              "      <td>Yes</td>\n",
              "      <td>Bank transfer (automatic)</td>\n",
              "      <td>61.90</td>\n",
              "      <td></td>\n",
              "      <td>No</td>\n",
              "    </tr>\n",
              "  </tbody>\n",
              "</table>\n",
              "</div>"
            ],
            "text/plain": [
              "      gender  SeniorCitizen Partner  ... MonthlyCharges  TotalCharges Churn\n",
              "488   Female              0     Yes  ...          52.55                  No\n",
              "753     Male              0      No  ...          20.25                  No\n",
              "936   Female              0     Yes  ...          80.85                  No\n",
              "1082    Male              0     Yes  ...          25.75                  No\n",
              "1340  Female              0     Yes  ...          56.05                  No\n",
              "3331    Male              0     Yes  ...          19.85                  No\n",
              "3826    Male              0     Yes  ...          25.35                  No\n",
              "4380  Female              0     Yes  ...          20.00                  No\n",
              "5218    Male              0     Yes  ...          19.70                  No\n",
              "6670  Female              0     Yes  ...          73.35                  No\n",
              "6754    Male              0      No  ...          61.90                  No\n",
              "\n",
              "[11 rows x 20 columns]"
            ]
          },
          "metadata": {},
          "execution_count": 129
        }
      ]
    },
    {
      "cell_type": "code",
      "metadata": {
        "colab": {
          "base_uri": "https://localhost:8080/"
        },
        "id": "hzB2JfGbzfB9",
        "outputId": "cd24184c-4358-44bb-de00-2198522f593c"
      },
      "source": [
        "df.info()"
      ],
      "execution_count": null,
      "outputs": [
        {
          "output_type": "stream",
          "name": "stdout",
          "text": [
            "<class 'pandas.core.frame.DataFrame'>\n",
            "RangeIndex: 7043 entries, 0 to 7042\n",
            "Data columns (total 20 columns):\n",
            " #   Column            Non-Null Count  Dtype  \n",
            "---  ------            --------------  -----  \n",
            " 0   gender            7043 non-null   object \n",
            " 1   SeniorCitizen     7043 non-null   int64  \n",
            " 2   Partner           7043 non-null   object \n",
            " 3   Dependents        7043 non-null   object \n",
            " 4   tenure            7043 non-null   int64  \n",
            " 5   PhoneService      7043 non-null   object \n",
            " 6   MultipleLines     7043 non-null   object \n",
            " 7   InternetService   7043 non-null   object \n",
            " 8   OnlineSecurity    7043 non-null   object \n",
            " 9   OnlineBackup      7043 non-null   object \n",
            " 10  DeviceProtection  7043 non-null   object \n",
            " 11  TechSupport       7043 non-null   object \n",
            " 12  StreamingTV       7043 non-null   object \n",
            " 13  StreamingMovies   7043 non-null   object \n",
            " 14  Contract          7043 non-null   object \n",
            " 15  PaperlessBilling  7043 non-null   object \n",
            " 16  PaymentMethod     7043 non-null   object \n",
            " 17  MonthlyCharges    7043 non-null   float64\n",
            " 18  TotalCharges      7043 non-null   object \n",
            " 19  Churn             7043 non-null   object \n",
            "dtypes: float64(1), int64(2), object(17)\n",
            "memory usage: 1.1+ MB\n"
          ]
        }
      ]
    },
    {
      "cell_type": "code",
      "metadata": {
        "colab": {
          "base_uri": "https://localhost:8080/"
        },
        "id": "_rqehbWD00Lc",
        "outputId": "eed8f992-bd79-4e1a-c2d5-66dfc20d32e3"
      },
      "source": [
        "df.iloc[488]"
      ],
      "execution_count": null,
      "outputs": [
        {
          "output_type": "execute_result",
          "data": {
            "text/plain": [
              "gender                                 Female\n",
              "SeniorCitizen                               0\n",
              "Partner                                   Yes\n",
              "Dependents                                Yes\n",
              "tenure                                      0\n",
              "PhoneService                               No\n",
              "MultipleLines                No phone service\n",
              "InternetService                           DSL\n",
              "OnlineSecurity                            Yes\n",
              "OnlineBackup                               No\n",
              "DeviceProtection                          Yes\n",
              "TechSupport                               Yes\n",
              "StreamingTV                               Yes\n",
              "StreamingMovies                            No\n",
              "Contract                             Two year\n",
              "PaperlessBilling                          Yes\n",
              "PaymentMethod       Bank transfer (automatic)\n",
              "MonthlyCharges                          52.55\n",
              "TotalCharges                                 \n",
              "Churn                                      No\n",
              "Name: 488, dtype: object"
            ]
          },
          "metadata": {},
          "execution_count": 131
        }
      ]
    },
    {
      "cell_type": "code",
      "metadata": {
        "id": "nDmqpsF01ElI"
      },
      "source": [
        "df_new = df[df['TotalCharges']!=' ']"
      ],
      "execution_count": null,
      "outputs": []
    },
    {
      "cell_type": "code",
      "metadata": {
        "colab": {
          "base_uri": "https://localhost:8080/"
        },
        "id": "TsEgbG7o14LZ",
        "outputId": "048c6954-83e7-4c3c-aa4b-5f3b2f2d244e"
      },
      "source": [
        "df_new[df_new['TotalCharges'].isnull()]"
      ],
      "execution_count": null,
      "outputs": [
        {
          "output_type": "execute_result",
          "data": {
            "text/html": [
              "<div>\n",
              "<style scoped>\n",
              "    .dataframe tbody tr th:only-of-type {\n",
              "        vertical-align: middle;\n",
              "    }\n",
              "\n",
              "    .dataframe tbody tr th {\n",
              "        vertical-align: top;\n",
              "    }\n",
              "\n",
              "    .dataframe thead th {\n",
              "        text-align: right;\n",
              "    }\n",
              "</style>\n",
              "<table border=\"1\" class=\"dataframe\">\n",
              "  <thead>\n",
              "    <tr style=\"text-align: right;\">\n",
              "      <th></th>\n",
              "      <th>gender</th>\n",
              "      <th>SeniorCitizen</th>\n",
              "      <th>Partner</th>\n",
              "      <th>Dependents</th>\n",
              "      <th>tenure</th>\n",
              "      <th>PhoneService</th>\n",
              "      <th>MultipleLines</th>\n",
              "      <th>InternetService</th>\n",
              "      <th>OnlineSecurity</th>\n",
              "      <th>OnlineBackup</th>\n",
              "      <th>DeviceProtection</th>\n",
              "      <th>TechSupport</th>\n",
              "      <th>StreamingTV</th>\n",
              "      <th>StreamingMovies</th>\n",
              "      <th>Contract</th>\n",
              "      <th>PaperlessBilling</th>\n",
              "      <th>PaymentMethod</th>\n",
              "      <th>MonthlyCharges</th>\n",
              "      <th>TotalCharges</th>\n",
              "      <th>Churn</th>\n",
              "    </tr>\n",
              "  </thead>\n",
              "  <tbody>\n",
              "  </tbody>\n",
              "</table>\n",
              "</div>"
            ],
            "text/plain": [
              "Empty DataFrame\n",
              "Columns: [gender, SeniorCitizen, Partner, Dependents, tenure, PhoneService, MultipleLines, InternetService, OnlineSecurity, OnlineBackup, DeviceProtection, TechSupport, StreamingTV, StreamingMovies, Contract, PaperlessBilling, PaymentMethod, MonthlyCharges, TotalCharges, Churn]\n",
              "Index: []"
            ]
          },
          "metadata": {},
          "execution_count": 133
        }
      ]
    },
    {
      "cell_type": "code",
      "metadata": {
        "colab": {
          "base_uri": "https://localhost:8080/"
        },
        "id": "cmCdYGlF8GqI",
        "outputId": "1a596ca1-657d-4574-d18c-9944e0d15a2b"
      },
      "source": [
        "## We have dropped all the rows with empty Total Charges\n",
        "df_new.shape"
      ],
      "execution_count": null,
      "outputs": [
        {
          "output_type": "execute_result",
          "data": {
            "text/plain": [
              "(7032, 20)"
            ]
          },
          "metadata": {},
          "execution_count": 134
        }
      ]
    },
    {
      "cell_type": "code",
      "metadata": {
        "colab": {
          "base_uri": "https://localhost:8080/"
        },
        "id": "Op5kcFKW8Qoo",
        "outputId": "0d6b9b42-1584-47ba-9ee4-159af2a86885"
      },
      "source": [
        "df_new['TotalCharges'] = pd.to_numeric(df_new['TotalCharges'])"
      ],
      "execution_count": null,
      "outputs": [
        {
          "output_type": "stream",
          "name": "stderr",
          "text": [
            "/usr/local/lib/python3.7/dist-packages/ipykernel_launcher.py:1: SettingWithCopyWarning: \n",
            "A value is trying to be set on a copy of a slice from a DataFrame.\n",
            "Try using .loc[row_indexer,col_indexer] = value instead\n",
            "\n",
            "See the caveats in the documentation: https://pandas.pydata.org/pandas-docs/stable/user_guide/indexing.html#returning-a-view-versus-a-copy\n",
            "  \"\"\"Entry point for launching an IPython kernel.\n"
          ]
        }
      ]
    },
    {
      "cell_type": "code",
      "metadata": {
        "colab": {
          "base_uri": "https://localhost:8080/"
        },
        "id": "cLjTA1ln8bZS",
        "outputId": "25f56fca-a51d-4ed2-ac9b-dc5ad7ecf792"
      },
      "source": [
        "df_new['TotalCharges']"
      ],
      "execution_count": null,
      "outputs": [
        {
          "output_type": "execute_result",
          "data": {
            "text/plain": [
              "0         29.85\n",
              "1       1889.50\n",
              "2        108.15\n",
              "3       1840.75\n",
              "4        151.65\n",
              "         ...   \n",
              "7038    1990.50\n",
              "7039    7362.90\n",
              "7040     346.45\n",
              "7041     306.60\n",
              "7042    6844.50\n",
              "Name: TotalCharges, Length: 7032, dtype: float64"
            ]
          },
          "metadata": {},
          "execution_count": 136
        }
      ]
    },
    {
      "cell_type": "code",
      "metadata": {
        "id": "dof8VSP2_J8s"
      },
      "source": [
        "tenure_churn_no = df_new[df_new['Churn']=='No']['tenure']\n",
        "tenure_churn_yes = df_new[df_new['Churn']=='Yes']['tenure']"
      ],
      "execution_count": null,
      "outputs": []
    },
    {
      "cell_type": "code",
      "metadata": {
        "colab": {
          "base_uri": "https://localhost:8080/"
        },
        "id": "4e1y9elO_sMZ",
        "outputId": "52aae095-06fc-437a-882a-c635b3d0bab3"
      },
      "source": [
        "plt.hist([tenure_churn_no, tenure_churn_yes], color=['green','red'], label=['Churn=No', 'Churn=Yes'])\n",
        "plt.legend()"
      ],
      "execution_count": null,
      "outputs": [
        {
          "output_type": "stream",
          "name": "stderr",
          "text": [
            "/usr/local/lib/python3.7/dist-packages/numpy/core/_asarray.py:83: VisibleDeprecationWarning: Creating an ndarray from ragged nested sequences (which is a list-or-tuple of lists-or-tuples-or ndarrays with different lengths or shapes) is deprecated. If you meant to do this, you must specify 'dtype=object' when creating the ndarray\n",
            "  return array(a, dtype, copy=False, order=order)\n"
          ]
        },
        {
          "output_type": "execute_result",
          "data": {
            "text/plain": [
              "<matplotlib.legend.Legend at 0x7f0fed0fc1d0>"
            ]
          },
          "metadata": {},
          "execution_count": 138
        },
        {
          "output_type": "display_data",
          "data": {
            "image/png": "[encoded data removed]",
            "text/plain": [
              "<Figure size 432x288 with 1 Axes>"
            ]
          },
          "metadata": {
            "needs_background": "light"
          }
        }
      ]
    },
    {
      "cell_type": "markdown",
      "metadata": {
        "id": "0OQJbHNSIF9T"
      },
      "source": [
        "As tenure increases, churn rate decreases"
      ]
    },
    {
      "cell_type": "code",
      "metadata": {
        "colab": {
          "base_uri": "https://localhost:8080/"
        },
        "id": "AXaZt3UGG4S7",
        "outputId": "1c6563e2-5463-45cc-b062-3a47d680357f"
      },
      "source": [
        "mc_churn_no = df_new[df_new['Churn']=='No']['MonthlyCharges']\n",
        "mc_churn_yes = df_new[df_new['Churn']=='Yes']['MonthlyCharges']\n",
        "\n",
        "plt.xlabel('Monthly Charges')\n",
        "plt.ylabel('Number of customers')\n",
        "plt.title('Customer churn prediction vs Monthly charges')\n",
        "\n",
        "plt.hist([mc_churn_no, mc_churn_yes], color=['green','red'], label=['Churn=No', 'Churn=Yes'])\n",
        "plt.legend()"
      ],
      "execution_count": null,
      "outputs": [
        {
          "output_type": "stream",
          "name": "stderr",
          "text": [
            "/usr/local/lib/python3.7/dist-packages/numpy/core/_asarray.py:83: VisibleDeprecationWarning: Creating an ndarray from ragged nested sequences (which is a list-or-tuple of lists-or-tuples-or ndarrays with different lengths or shapes) is deprecated. If you meant to do this, you must specify 'dtype=object' when creating the ndarray\n",
            "  return array(a, dtype, copy=False, order=order)\n"
          ]
        },
        {
          "output_type": "execute_result",
          "data": {
            "text/plain": [
              "<matplotlib.legend.Legend at 0x7f0fef2ffb90>"
            ]
          },
          "metadata": {},
          "execution_count": 139
        },
        {
          "output_type": "display_data",
          "data": {
            "image/png": "[encoded data removed]",
            "text/plain": [
              "<Figure size 432x288 with 1 Axes>"
            ]
          },
          "metadata": {
            "needs_background": "light"
          }
        }
      ]
    },
    {
      "cell_type": "markdown",
      "metadata": {
        "id": "TQ_vBrNSH9-e"
      },
      "source": [
        "When monthly charges are low, there is low churn "
      ]
    },
    {
      "cell_type": "code",
      "metadata": {
        "colab": {
          "base_uri": "https://localhost:8080/"
        },
        "id": "0gdZwB0LFrXV",
        "outputId": "5ea0b430-9af3-4681-fd3e-a72f368ba6f4"
      },
      "source": [
        "df_new['Churn'].value_counts()"
      ],
      "execution_count": null,
      "outputs": [
        {
          "output_type": "execute_result",
          "data": {
            "text/plain": [
              "No     5163\n",
              "Yes    1869\n",
              "Name: Churn, dtype: int64"
            ]
          },
          "metadata": {},
          "execution_count": 140
        }
      ]
    },
    {
      "cell_type": "markdown",
      "metadata": {
        "id": "YsqKgY1qIPd5"
      },
      "source": [
        "### Label Encoding"
      ]
    },
    {
      "cell_type": "code",
      "metadata": {
        "id": "IzMZDMEfIN4u"
      },
      "source": [
        "def unique_value_cat_col(df):\n",
        "  for column in df:\n",
        "    if df[column].dtypes=='object':\n",
        "      print(f'{column} : {df[column].unique()}')"
      ],
      "execution_count": null,
      "outputs": []
    },
    {
      "cell_type": "code",
      "metadata": {
        "colab": {
          "base_uri": "https://localhost:8080/"
        },
        "id": "jXaLjWh_Ncdq",
        "outputId": "67c00f30-a25d-4527-e4e0-d1d21fea7f5b"
      },
      "source": [
        "unique_value_cat_col(df_new)"
      ],
      "execution_count": null,
      "outputs": [
        {
          "output_type": "stream",
          "name": "stdout",
          "text": [
            "gender : ['Female' 'Male']\n",
            "Partner : ['Yes' 'No']\n",
            "Dependents : ['No' 'Yes']\n",
            "PhoneService : ['No' 'Yes']\n",
            "MultipleLines : ['No phone service' 'No' 'Yes']\n",
            "InternetService : ['DSL' 'Fiber optic' 'No']\n",
            "OnlineSecurity : ['No' 'Yes' 'No internet service']\n",
            "OnlineBackup : ['Yes' 'No' 'No internet service']\n",
            "DeviceProtection : ['No' 'Yes' 'No internet service']\n",
            "TechSupport : ['No' 'Yes' 'No internet service']\n",
            "StreamingTV : ['No' 'Yes' 'No internet service']\n",
            "StreamingMovies : ['No' 'Yes' 'No internet service']\n",
            "Contract : ['Month-to-month' 'One year' 'Two year']\n",
            "PaperlessBilling : ['Yes' 'No']\n",
            "PaymentMethod : ['Electronic check' 'Mailed check' 'Bank transfer (automatic)'\n",
            " 'Credit card (automatic)']\n",
            "Churn : ['No' 'Yes']\n"
          ]
        }
      ]
    },
    {
      "cell_type": "code",
      "metadata": {
        "id": "OUeSX50lSFsB",
        "colab": {
          "base_uri": "https://localhost:8080/"
        },
        "outputId": "fc3d3a53-1401-4d14-8f48-0afb93db06b9"
      },
      "source": [
        "df_new.replace('No internet service','No',inplace=True)\n",
        "df_new.replace('No phone service','No',inplace=True)"
      ],
      "execution_count": null,
      "outputs": [
        {
          "output_type": "stream",
          "name": "stderr",
          "text": [
            "/usr/local/lib/python3.7/dist-packages/pandas/core/frame.py:4389: SettingWithCopyWarning: \n",
            "A value is trying to be set on a copy of a slice from a DataFrame\n",
            "\n",
            "See the caveats in the documentation: https://pandas.pydata.org/pandas-docs/stable/user_guide/indexing.html#returning-a-view-versus-a-copy\n",
            "  method=method,\n"
          ]
        }
      ]
    },
    {
      "cell_type": "code",
      "metadata": {
        "id": "GkDb9rggSbyn",
        "colab": {
          "base_uri": "https://localhost:8080/"
        },
        "outputId": "1ce2671c-4186-4714-f3ac-31a182c5809d"
      },
      "source": [
        "df_new.replace('Yes',1,inplace=True)\n",
        "df_new.replace('No',0,inplace=True)"
      ],
      "execution_count": null,
      "outputs": [
        {
          "output_type": "stream",
          "name": "stderr",
          "text": [
            "/usr/local/lib/python3.7/dist-packages/pandas/core/frame.py:4389: SettingWithCopyWarning: \n",
            "A value is trying to be set on a copy of a slice from a DataFrame\n",
            "\n",
            "See the caveats in the documentation: https://pandas.pydata.org/pandas-docs/stable/user_guide/indexing.html#returning-a-view-versus-a-copy\n",
            "  method=method,\n"
          ]
        }
      ]
    },
    {
      "cell_type": "code",
      "metadata": {
        "id": "eWaysYiLoac4",
        "colab": {
          "base_uri": "https://localhost:8080/"
        },
        "outputId": "36c53324-79e4-4695-f296-1460365ddf03"
      },
      "source": [
        "df_new['gender'].replace({'Female':1,'Male':0},inplace=True)"
      ],
      "execution_count": null,
      "outputs": [
        {
          "output_type": "stream",
          "name": "stderr",
          "text": [
            "/usr/local/lib/python3.7/dist-packages/pandas/core/series.py:4582: SettingWithCopyWarning: \n",
            "A value is trying to be set on a copy of a slice from a DataFrame\n",
            "\n",
            "See the caveats in the documentation: https://pandas.pydata.org/pandas-docs/stable/user_guide/indexing.html#returning-a-view-versus-a-copy\n",
            "  method=method,\n"
          ]
        }
      ]
    },
    {
      "cell_type": "code",
      "metadata": {
        "id": "pf-_PyfjpjML"
      },
      "source": [
        "# One-hot encoding as it has more than 3 categories\n",
        "df_new = pd.get_dummies(df_new, columns=['InternetService','Contract','PaymentMethod'])"
      ],
      "execution_count": null,
      "outputs": []
    },
    {
      "cell_type": "code",
      "metadata": {
        "id": "aEMsKbPySQwl",
        "colab": {
          "base_uri": "https://localhost:8080/"
        },
        "outputId": "650e8a81-1a2a-411b-e0ad-31ea1b437521"
      },
      "source": [
        "for column in df_new:\n",
        "    print(f'{column} : {df_new[column].unique()}')"
      ],
      "execution_count": null,
      "outputs": [
        {
          "output_type": "stream",
          "name": "stdout",
          "text": [
            "gender : [1 0]\n",
            "SeniorCitizen : [0 1]\n",
            "Partner : [1 0]\n",
            "Dependents : [0 1]\n",
            "tenure : [ 1 34  2 45  8 22 10 28 62 13 16 58 49 25 69 52 71 21 12 30 47 72 17 27\n",
            "  5 46 11 70 63 43 15 60 18 66  9  3 31 50 64 56  7 42 35 48 29 65 38 68\n",
            " 32 55 37 36 41  6  4 33 67 23 57 61 14 20 53 40 59 24 44 19 54 51 26 39]\n",
            "PhoneService : [0 1]\n",
            "MultipleLines : [0 1]\n",
            "OnlineSecurity : [0 1]\n",
            "OnlineBackup : [1 0]\n",
            "DeviceProtection : [0 1]\n",
            "TechSupport : [0 1]\n",
            "StreamingTV : [0 1]\n",
            "StreamingMovies : [0 1]\n",
            "PaperlessBilling : [1 0]\n",
            "MonthlyCharges : [29.85 56.95 53.85 ... 63.1  44.2  78.7 ]\n",
            "TotalCharges : [  29.85 1889.5   108.15 ...  346.45  306.6  6844.5 ]\n",
            "Churn : [0 1]\n",
            "InternetService_0 : [0 1]\n",
            "InternetService_DSL : [1 0]\n",
            "InternetService_Fiber optic : [0 1]\n",
            "Contract_Month-to-month : [1 0]\n",
            "Contract_One year : [0 1]\n",
            "Contract_Two year : [0 1]\n",
            "PaymentMethod_Bank transfer (automatic) : [0 1]\n",
            "PaymentMethod_Credit card (automatic) : [0 1]\n",
            "PaymentMethod_Electronic check : [1 0]\n",
            "PaymentMethod_Mailed check : [0 1]\n"
          ]
        }
      ]
    },
    {
      "cell_type": "code",
      "metadata": {
        "id": "9GMsEWSkSy4_",
        "colab": {
          "base_uri": "https://localhost:8080/"
        },
        "outputId": "0753163b-6aa3-43e4-a0b8-c4debdbe4552"
      },
      "source": [
        "df_new.head()"
      ],
      "execution_count": null,
      "outputs": [
        {
          "output_type": "execute_result",
          "data": {
            "text/html": [
              "<div>\n",
              "<style scoped>\n",
              "    .dataframe tbody tr th:only-of-type {\n",
              "        vertical-align: middle;\n",
              "    }\n",
              "\n",
              "    .dataframe tbody tr th {\n",
              "        vertical-align: top;\n",
              "    }\n",
              "\n",
              "    .dataframe thead th {\n",
              "        text-align: right;\n",
              "    }\n",
              "</style>\n",
              "<table border=\"1\" class=\"dataframe\">\n",
              "  <thead>\n",
              "    <tr style=\"text-align: right;\">\n",
              "      <th></th>\n",
              "      <th>gender</th>\n",
              "      <th>SeniorCitizen</th>\n",
              "      <th>Partner</th>\n",
              "      <th>Dependents</th>\n",
              "      <th>tenure</th>\n",
              "      <th>PhoneService</th>\n",
              "      <th>MultipleLines</th>\n",
              "      <th>OnlineSecurity</th>\n",
              "      <th>OnlineBackup</th>\n",
              "      <th>DeviceProtection</th>\n",
              "      <th>TechSupport</th>\n",
              "      <th>StreamingTV</th>\n",
              "      <th>StreamingMovies</th>\n",
              "      <th>PaperlessBilling</th>\n",
              "      <th>MonthlyCharges</th>\n",
              "      <th>TotalCharges</th>\n",
              "      <th>Churn</th>\n",
              "      <th>InternetService_0</th>\n",
              "      <th>InternetService_DSL</th>\n",
              "      <th>InternetService_Fiber optic</th>\n",
              "      <th>Contract_Month-to-month</th>\n",
              "      <th>Contract_One year</th>\n",
              "      <th>Contract_Two year</th>\n",
              "      <th>PaymentMethod_Bank transfer (automatic)</th>\n",
              "      <th>PaymentMethod_Credit card (automatic)</th>\n",
              "      <th>PaymentMethod_Electronic check</th>\n",
              "      <th>PaymentMethod_Mailed check</th>\n",
              "    </tr>\n",
              "  </thead>\n",
              "  <tbody>\n",
              "    <tr>\n",
              "      <th>0</th>\n",
              "      <td>1</td>\n",
              "      <td>0</td>\n",
              "      <td>1</td>\n",
              "      <td>0</td>\n",
              "      <td>1</td>\n",
              "      <td>0</td>\n",
              "      <td>0</td>\n",
              "      <td>0</td>\n",
              "      <td>1</td>\n",
              "      <td>0</td>\n",
              "      <td>0</td>\n",
              "      <td>0</td>\n",
              "      <td>0</td>\n",
              "      <td>1</td>\n",
              "      <td>29.85</td>\n",
              "      <td>29.85</td>\n",
              "      <td>0</td>\n",
              "      <td>0</td>\n",
              "      <td>1</td>\n",
              "      <td>0</td>\n",
              "      <td>1</td>\n",
              "      <td>0</td>\n",
              "      <td>0</td>\n",
              "      <td>0</td>\n",
              "      <td>0</td>\n",
              "      <td>1</td>\n",
              "      <td>0</td>\n",
              "    </tr>\n",
              "    <tr>\n",
              "      <th>1</th>\n",
              "      <td>0</td>\n",
              "      <td>0</td>\n",
              "      <td>0</td>\n",
              "      <td>0</td>\n",
              "      <td>34</td>\n",
              "      <td>1</td>\n",
              "      <td>0</td>\n",
              "      <td>1</td>\n",
              "      <td>0</td>\n",
              "      <td>1</td>\n",
              "      <td>0</td>\n",
              "      <td>0</td>\n",
              "      <td>0</td>\n",
              "      <td>0</td>\n",
              "      <td>56.95</td>\n",
              "      <td>1889.50</td>\n",
              "      <td>0</td>\n",
              "      <td>0</td>\n",
              "      <td>1</td>\n",
              "      <td>0</td>\n",
              "      <td>0</td>\n",
              "      <td>1</td>\n",
              "      <td>0</td>\n",
              "      <td>0</td>\n",
              "      <td>0</td>\n",
              "      <td>0</td>\n",
              "      <td>1</td>\n",
              "    </tr>\n",
              "    <tr>\n",
              "      <th>2</th>\n",
              "      <td>0</td>\n",
              "      <td>0</td>\n",
              "      <td>0</td>\n",
              "      <td>0</td>\n",
              "      <td>2</td>\n",
              "      <td>1</td>\n",
              "      <td>0</td>\n",
              "      <td>1</td>\n",
              "      <td>1</td>\n",
              "      <td>0</td>\n",
              "      <td>0</td>\n",
              "      <td>0</td>\n",
              "      <td>0</td>\n",
              "      <td>1</td>\n",
              "      <td>53.85</td>\n",
              "      <td>108.15</td>\n",
              "      <td>1</td>\n",
              "      <td>0</td>\n",
              "      <td>1</td>\n",
              "      <td>0</td>\n",
              "      <td>1</td>\n",
              "      <td>0</td>\n",
              "      <td>0</td>\n",
              "      <td>0</td>\n",
              "      <td>0</td>\n",
              "      <td>0</td>\n",
              "      <td>1</td>\n",
              "    </tr>\n",
              "    <tr>\n",
              "      <th>3</th>\n",
              "      <td>0</td>\n",
              "      <td>0</td>\n",
              "      <td>0</td>\n",
              "      <td>0</td>\n",
              "      <td>45</td>\n",
              "      <td>0</td>\n",
              "      <td>0</td>\n",
              "      <td>1</td>\n",
              "      <td>0</td>\n",
              "      <td>1</td>\n",
              "      <td>1</td>\n",
              "      <td>0</td>\n",
              "      <td>0</td>\n",
              "      <td>0</td>\n",
              "      <td>42.30</td>\n",
              "      <td>1840.75</td>\n",
              "      <td>0</td>\n",
              "      <td>0</td>\n",
              "      <td>1</td>\n",
              "      <td>0</td>\n",
              "      <td>0</td>\n",
              "      <td>1</td>\n",
              "      <td>0</td>\n",
              "      <td>1</td>\n",
              "      <td>0</td>\n",
              "      <td>0</td>\n",
              "      <td>0</td>\n",
              "    </tr>\n",
              "    <tr>\n",
              "      <th>4</th>\n",
              "      <td>1</td>\n",
              "      <td>0</td>\n",
              "      <td>0</td>\n",
              "      <td>0</td>\n",
              "      <td>2</td>\n",
              "      <td>1</td>\n",
              "      <td>0</td>\n",
              "      <td>0</td>\n",
              "      <td>0</td>\n",
              "      <td>0</td>\n",
              "      <td>0</td>\n",
              "      <td>0</td>\n",
              "      <td>0</td>\n",
              "      <td>1</td>\n",
              "      <td>70.70</td>\n",
              "      <td>151.65</td>\n",
              "      <td>1</td>\n",
              "      <td>0</td>\n",
              "      <td>0</td>\n",
              "      <td>1</td>\n",
              "      <td>1</td>\n",
              "      <td>0</td>\n",
              "      <td>0</td>\n",
              "      <td>0</td>\n",
              "      <td>0</td>\n",
              "      <td>1</td>\n",
              "      <td>0</td>\n",
              "    </tr>\n",
              "  </tbody>\n",
              "</table>\n",
              "</div>"
            ],
            "text/plain": [
              "   gender  ...  PaymentMethod_Mailed check\n",
              "0       1  ...                           0\n",
              "1       0  ...                           1\n",
              "2       0  ...                           1\n",
              "3       0  ...                           0\n",
              "4       1  ...                           0\n",
              "\n",
              "[5 rows x 27 columns]"
            ]
          },
          "metadata": {},
          "execution_count": 148
        }
      ]
    },
    {
      "cell_type": "code",
      "metadata": {
        "id": "CGISiTGbp87t",
        "colab": {
          "base_uri": "https://localhost:8080/"
        },
        "outputId": "3e6793fd-58f3-476b-a363-6dcbd21973c5"
      },
      "source": [
        "df_new.shape"
      ],
      "execution_count": null,
      "outputs": [
        {
          "output_type": "execute_result",
          "data": {
            "text/plain": [
              "(7032, 27)"
            ]
          },
          "metadata": {},
          "execution_count": 149
        }
      ]
    },
    {
      "cell_type": "markdown",
      "metadata": {
        "id": "gvXkQUvdqNau"
      },
      "source": [
        "All the values are now in integer format"
      ]
    },
    {
      "cell_type": "code",
      "metadata": {
        "id": "WukNQED3qBp1",
        "colab": {
          "base_uri": "https://localhost:8080/"
        },
        "outputId": "5a72ca62-4c5b-492a-f17c-e9491161eb05"
      },
      "source": [
        "df_new.dtypes"
      ],
      "execution_count": null,
      "outputs": [
        {
          "output_type": "execute_result",
          "data": {
            "text/plain": [
              "gender                                       int64\n",
              "SeniorCitizen                                int64\n",
              "Partner                                      int64\n",
              "Dependents                                   int64\n",
              "tenure                                       int64\n",
              "PhoneService                                 int64\n",
              "MultipleLines                                int64\n",
              "OnlineSecurity                               int64\n",
              "OnlineBackup                                 int64\n",
              "DeviceProtection                             int64\n",
              "TechSupport                                  int64\n",
              "StreamingTV                                  int64\n",
              "StreamingMovies                              int64\n",
              "PaperlessBilling                             int64\n",
              "MonthlyCharges                             float64\n",
              "TotalCharges                               float64\n",
              "Churn                                        int64\n",
              "InternetService_0                            uint8\n",
              "InternetService_DSL                          uint8\n",
              "InternetService_Fiber optic                  uint8\n",
              "Contract_Month-to-month                      uint8\n",
              "Contract_One year                            uint8\n",
              "Contract_Two year                            uint8\n",
              "PaymentMethod_Bank transfer (automatic)      uint8\n",
              "PaymentMethod_Credit card (automatic)        uint8\n",
              "PaymentMethod_Electronic check               uint8\n",
              "PaymentMethod_Mailed check                   uint8\n",
              "dtype: object"
            ]
          },
          "metadata": {},
          "execution_count": 150
        }
      ]
    },
    {
      "cell_type": "markdown",
      "metadata": {
        "id": "eqnyFRYWrELf"
      },
      "source": [
        "Scaling the values between 0-1"
      ]
    },
    {
      "cell_type": "code",
      "metadata": {
        "id": "nb-yFjfRqFkK"
      },
      "source": [
        "cols_to_scale = ['tenure','MonthlyCharges','TotalCharges']\n",
        "\n",
        "from sklearn.preprocessing import MinMaxScaler\n",
        "mms = MinMaxScaler()\n",
        "df_new[cols_to_scale] = mms.fit_transform(df_new[cols_to_scale])"
      ],
      "execution_count": null,
      "outputs": []
    },
    {
      "cell_type": "code",
      "metadata": {
        "id": "9wcPLiZuqz8c",
        "colab": {
          "base_uri": "https://localhost:8080/"
        },
        "outputId": "d972e52b-f7ff-4028-f500-af6ef7bc061e"
      },
      "source": [
        "df_new.head()"
      ],
      "execution_count": null,
      "outputs": [
        {
          "output_type": "execute_result",
          "data": {
            "text/html": [
              "<div>\n",
              "<style scoped>\n",
              "    .dataframe tbody tr th:only-of-type {\n",
              "        vertical-align: middle;\n",
              "    }\n",
              "\n",
              "    .dataframe tbody tr th {\n",
              "        vertical-align: top;\n",
              "    }\n",
              "\n",
              "    .dataframe thead th {\n",
              "        text-align: right;\n",
              "    }\n",
              "</style>\n",
              "<table border=\"1\" class=\"dataframe\">\n",
              "  <thead>\n",
              "    <tr style=\"text-align: right;\">\n",
              "      <th></th>\n",
              "      <th>gender</th>\n",
              "      <th>SeniorCitizen</th>\n",
              "      <th>Partner</th>\n",
              "      <th>Dependents</th>\n",
              "      <th>tenure</th>\n",
              "      <th>PhoneService</th>\n",
              "      <th>MultipleLines</th>\n",
              "      <th>OnlineSecurity</th>\n",
              "      <th>OnlineBackup</th>\n",
              "      <th>DeviceProtection</th>\n",
              "      <th>TechSupport</th>\n",
              "      <th>StreamingTV</th>\n",
              "      <th>StreamingMovies</th>\n",
              "      <th>PaperlessBilling</th>\n",
              "      <th>MonthlyCharges</th>\n",
              "      <th>TotalCharges</th>\n",
              "      <th>Churn</th>\n",
              "      <th>InternetService_0</th>\n",
              "      <th>InternetService_DSL</th>\n",
              "      <th>InternetService_Fiber optic</th>\n",
              "      <th>Contract_Month-to-month</th>\n",
              "      <th>Contract_One year</th>\n",
              "      <th>Contract_Two year</th>\n",
              "      <th>PaymentMethod_Bank transfer (automatic)</th>\n",
              "      <th>PaymentMethod_Credit card (automatic)</th>\n",
              "      <th>PaymentMethod_Electronic check</th>\n",
              "      <th>PaymentMethod_Mailed check</th>\n",
              "    </tr>\n",
              "  </thead>\n",
              "  <tbody>\n",
              "    <tr>\n",
              "      <th>0</th>\n",
              "      <td>1</td>\n",
              "      <td>0</td>\n",
              "      <td>1</td>\n",
              "      <td>0</td>\n",
              "      <td>0.000000</td>\n",
              "      <td>0</td>\n",
              "      <td>0</td>\n",
              "      <td>0</td>\n",
              "      <td>1</td>\n",
              "      <td>0</td>\n",
              "      <td>0</td>\n",
              "      <td>0</td>\n",
              "      <td>0</td>\n",
              "      <td>1</td>\n",
              "      <td>0.115423</td>\n",
              "      <td>0.001275</td>\n",
              "      <td>0</td>\n",
              "      <td>0</td>\n",
              "      <td>1</td>\n",
              "      <td>0</td>\n",
              "      <td>1</td>\n",
              "      <td>0</td>\n",
              "      <td>0</td>\n",
              "      <td>0</td>\n",
              "      <td>0</td>\n",
              "      <td>1</td>\n",
              "      <td>0</td>\n",
              "    </tr>\n",
              "    <tr>\n",
              "      <th>1</th>\n",
              "      <td>0</td>\n",
              "      <td>0</td>\n",
              "      <td>0</td>\n",
              "      <td>0</td>\n",
              "      <td>0.464789</td>\n",
              "      <td>1</td>\n",
              "      <td>0</td>\n",
              "      <td>1</td>\n",
              "      <td>0</td>\n",
              "      <td>1</td>\n",
              "      <td>0</td>\n",
              "      <td>0</td>\n",
              "      <td>0</td>\n",
              "      <td>0</td>\n",
              "      <td>0.385075</td>\n",
              "      <td>0.215867</td>\n",
              "      <td>0</td>\n",
              "      <td>0</td>\n",
              "      <td>1</td>\n",
              "      <td>0</td>\n",
              "      <td>0</td>\n",
              "      <td>1</td>\n",
              "      <td>0</td>\n",
              "      <td>0</td>\n",
              "      <td>0</td>\n",
              "      <td>0</td>\n",
              "      <td>1</td>\n",
              "    </tr>\n",
              "    <tr>\n",
              "      <th>2</th>\n",
              "      <td>0</td>\n",
              "      <td>0</td>\n",
              "      <td>0</td>\n",
              "      <td>0</td>\n",
              "      <td>0.014085</td>\n",
              "      <td>1</td>\n",
              "      <td>0</td>\n",
              "      <td>1</td>\n",
              "      <td>1</td>\n",
              "      <td>0</td>\n",
              "      <td>0</td>\n",
              "      <td>0</td>\n",
              "      <td>0</td>\n",
              "      <td>1</td>\n",
              "      <td>0.354229</td>\n",
              "      <td>0.010310</td>\n",
              "      <td>1</td>\n",
              "      <td>0</td>\n",
              "      <td>1</td>\n",
              "      <td>0</td>\n",
              "      <td>1</td>\n",
              "      <td>0</td>\n",
              "      <td>0</td>\n",
              "      <td>0</td>\n",
              "      <td>0</td>\n",
              "      <td>0</td>\n",
              "      <td>1</td>\n",
              "    </tr>\n",
              "    <tr>\n",
              "      <th>3</th>\n",
              "      <td>0</td>\n",
              "      <td>0</td>\n",
              "      <td>0</td>\n",
              "      <td>0</td>\n",
              "      <td>0.619718</td>\n",
              "      <td>0</td>\n",
              "      <td>0</td>\n",
              "      <td>1</td>\n",
              "      <td>0</td>\n",
              "      <td>1</td>\n",
              "      <td>1</td>\n",
              "      <td>0</td>\n",
              "      <td>0</td>\n",
              "      <td>0</td>\n",
              "      <td>0.239303</td>\n",
              "      <td>0.210241</td>\n",
              "      <td>0</td>\n",
              "      <td>0</td>\n",
              "      <td>1</td>\n",
              "      <td>0</td>\n",
              "      <td>0</td>\n",
              "      <td>1</td>\n",
              "      <td>0</td>\n",
              "      <td>1</td>\n",
              "      <td>0</td>\n",
              "      <td>0</td>\n",
              "      <td>0</td>\n",
              "    </tr>\n",
              "    <tr>\n",
              "      <th>4</th>\n",
              "      <td>1</td>\n",
              "      <td>0</td>\n",
              "      <td>0</td>\n",
              "      <td>0</td>\n",
              "      <td>0.014085</td>\n",
              "      <td>1</td>\n",
              "      <td>0</td>\n",
              "      <td>0</td>\n",
              "      <td>0</td>\n",
              "      <td>0</td>\n",
              "      <td>0</td>\n",
              "      <td>0</td>\n",
              "      <td>0</td>\n",
              "      <td>1</td>\n",
              "      <td>0.521891</td>\n",
              "      <td>0.015330</td>\n",
              "      <td>1</td>\n",
              "      <td>0</td>\n",
              "      <td>0</td>\n",
              "      <td>1</td>\n",
              "      <td>1</td>\n",
              "      <td>0</td>\n",
              "      <td>0</td>\n",
              "      <td>0</td>\n",
              "      <td>0</td>\n",
              "      <td>1</td>\n",
              "      <td>0</td>\n",
              "    </tr>\n",
              "  </tbody>\n",
              "</table>\n",
              "</div>"
            ],
            "text/plain": [
              "   gender  ...  PaymentMethod_Mailed check\n",
              "0       1  ...                           0\n",
              "1       0  ...                           1\n",
              "2       0  ...                           1\n",
              "3       0  ...                           0\n",
              "4       1  ...                           0\n",
              "\n",
              "[5 rows x 27 columns]"
            ]
          },
          "metadata": {},
          "execution_count": 152
        }
      ]
    },
    {
      "cell_type": "code",
      "metadata": {
        "id": "NAmcDSXvrAWg",
        "colab": {
          "base_uri": "https://localhost:8080/"
        },
        "outputId": "f051bb0f-1331-4322-98bb-61064518882c"
      },
      "source": [
        "for column in df_new:\n",
        "    print(f'{column} : {df_new[column].unique()}')"
      ],
      "execution_count": null,
      "outputs": [
        {
          "output_type": "stream",
          "name": "stdout",
          "text": [
            "gender : [1 0]\n",
            "SeniorCitizen : [0 1]\n",
            "Partner : [1 0]\n",
            "Dependents : [0 1]\n",
            "tenure : [0.         0.46478873 0.01408451 0.61971831 0.09859155 0.29577465\n",
            " 0.12676056 0.38028169 0.85915493 0.16901408 0.21126761 0.8028169\n",
            " 0.67605634 0.33802817 0.95774648 0.71830986 0.98591549 0.28169014\n",
            " 0.15492958 0.4084507  0.64788732 1.         0.22535211 0.36619718\n",
            " 0.05633803 0.63380282 0.14084507 0.97183099 0.87323944 0.5915493\n",
            " 0.1971831  0.83098592 0.23943662 0.91549296 0.11267606 0.02816901\n",
            " 0.42253521 0.69014085 0.88732394 0.77464789 0.08450704 0.57746479\n",
            " 0.47887324 0.66197183 0.3943662  0.90140845 0.52112676 0.94366197\n",
            " 0.43661972 0.76056338 0.50704225 0.49295775 0.56338028 0.07042254\n",
            " 0.04225352 0.45070423 0.92957746 0.30985915 0.78873239 0.84507042\n",
            " 0.18309859 0.26760563 0.73239437 0.54929577 0.81690141 0.32394366\n",
            " 0.6056338  0.25352113 0.74647887 0.70422535 0.35211268 0.53521127]\n",
            "PhoneService : [0 1]\n",
            "MultipleLines : [0 1]\n",
            "OnlineSecurity : [0 1]\n",
            "OnlineBackup : [1 0]\n",
            "DeviceProtection : [0 1]\n",
            "TechSupport : [0 1]\n",
            "StreamingTV : [0 1]\n",
            "StreamingMovies : [0 1]\n",
            "PaperlessBilling : [1 0]\n",
            "MonthlyCharges : [0.11542289 0.38507463 0.35422886 ... 0.44626866 0.25820896 0.60149254]\n",
            "TotalCharges : [0.0012751  0.21586661 0.01031041 ... 0.03780868 0.03321025 0.78764136]\n",
            "Churn : [0 1]\n",
            "InternetService_0 : [0 1]\n",
            "InternetService_DSL : [1 0]\n",
            "InternetService_Fiber optic : [0 1]\n",
            "Contract_Month-to-month : [1 0]\n",
            "Contract_One year : [0 1]\n",
            "Contract_Two year : [0 1]\n",
            "PaymentMethod_Bank transfer (automatic) : [0 1]\n",
            "PaymentMethod_Credit card (automatic) : [0 1]\n",
            "PaymentMethod_Electronic check : [1 0]\n",
            "PaymentMethod_Mailed check : [0 1]\n"
          ]
        }
      ]
    },
    {
      "cell_type": "markdown",
      "metadata": {
        "id": "p3bLne_urTjm"
      },
      "source": [
        "### Model Building"
      ]
    },
    {
      "cell_type": "code",
      "metadata": {
        "id": "WgU55O6mrJPf"
      },
      "source": [
        "X = df_new.drop('Churn',axis=1)\n",
        "Y = df_new['Churn']"
      ],
      "execution_count": null,
      "outputs": []
    },
    {
      "cell_type": "code",
      "metadata": {
        "id": "KIpORKYUreS1"
      },
      "source": [
        "from sklearn.model_selection import train_test_split\n",
        "X_train, X_test, Y_train, Y_test = train_test_split(X,Y,test_size=0.2,random_state=5)"
      ],
      "execution_count": null,
      "outputs": []
    },
    {
      "cell_type": "code",
      "metadata": {
        "colab": {
          "base_uri": "https://localhost:8080/"
        },
        "id": "IkbxWviir2YH",
        "outputId": "a1ace8b7-3572-4666-c218-905850e4c4ad"
      },
      "source": [
        "X_train.shape"
      ],
      "execution_count": null,
      "outputs": [
        {
          "output_type": "execute_result",
          "data": {
            "text/plain": [
              "(5625, 26)"
            ]
          },
          "metadata": {},
          "execution_count": 37
        }
      ]
    },
    {
      "cell_type": "code",
      "metadata": {
        "colab": {
          "base_uri": "https://localhost:8080/"
        },
        "id": "qcsx2YlYr4ha",
        "outputId": "434a15dd-54b8-4019-deca-e24715166db7"
      },
      "source": [
        "X_test.shape"
      ],
      "execution_count": null,
      "outputs": [
        {
          "output_type": "execute_result",
          "data": {
            "text/plain": [
              "(1407, 26)"
            ]
          },
          "metadata": {},
          "execution_count": 38
        }
      ]
    },
    {
      "cell_type": "code",
      "metadata": {
        "colab": {
          "base_uri": "https://localhost:8080/"
        },
        "id": "16p7DtjlsPlz",
        "outputId": "963e9f00-cbdd-4e38-e206-53d0e122dfb0"
      },
      "source": [
        "len(X_train.columns)"
      ],
      "execution_count": null,
      "outputs": [
        {
          "output_type": "execute_result",
          "data": {
            "text/plain": [
              "26"
            ]
          },
          "metadata": {},
          "execution_count": 39
        }
      ]
    },
    {
      "cell_type": "code",
      "metadata": {
        "id": "2W6WRc4xsA69"
      },
      "source": [
        "import tensorflow as tf\n",
        "from tensorflow import keras"
      ],
      "execution_count": null,
      "outputs": []
    },
    {
      "cell_type": "code",
      "metadata": {
        "colab": {
          "base_uri": "https://localhost:8080/"
        },
        "id": "sVnuRqKisEVL",
        "outputId": "28856e93-ec06-4441-f0b6-f7cbd53eefd7"
      },
      "source": [
        "model = keras.Sequential([\n",
        "    keras.layers.Dense(26, input_shape=(26,), activation='relu'),\n",
        "    keras.layers.Dense(15, activation='relu'),\n",
        "    keras.layers.Dense(1, activation='sigmoid')\n",
        "])\n",
        "\n",
        "model.compile(optimizer='adam',\n",
        "              loss = 'binary_crossentropy',\n",
        "              metrics=['accuracy'])\n",
        "\n",
        "model.fit(X_train,Y_train,epochs=100)"
      ],
      "execution_count": null,
      "outputs": [
        {
          "output_type": "stream",
          "name": "stdout",
          "text": [
            "Epoch 1/100\n",
            "176/176 [==============================] - 1s 2ms/step - loss: 0.4892 - accuracy: 0.7637\n",
            "Epoch 2/100\n",
            "176/176 [==============================] - 0s 2ms/step - loss: 0.4258 - accuracy: 0.7982\n",
            "Epoch 3/100\n",
            "176/176 [==============================] - 0s 2ms/step - loss: 0.4191 - accuracy: 0.8009\n",
            "Epoch 4/100\n",
            "176/176 [==============================] - 0s 2ms/step - loss: 0.4153 - accuracy: 0.8030\n",
            "Epoch 5/100\n",
            "176/176 [==============================] - 0s 1ms/step - loss: 0.4122 - accuracy: 0.8064\n",
            "Epoch 6/100\n",
            "176/176 [==============================] - 0s 2ms/step - loss: 0.4094 - accuracy: 0.8085\n",
            "Epoch 7/100\n",
            "176/176 [==============================] - 0s 2ms/step - loss: 0.4075 - accuracy: 0.8098\n",
            "Epoch 8/100\n",
            "176/176 [==============================] - 0s 2ms/step - loss: 0.4059 - accuracy: 0.8101\n",
            "Epoch 9/100\n",
            "176/176 [==============================] - 0s 2ms/step - loss: 0.4037 - accuracy: 0.8116\n",
            "Epoch 10/100\n",
            "176/176 [==============================] - 0s 2ms/step - loss: 0.4034 - accuracy: 0.8094\n",
            "Epoch 11/100\n",
            "176/176 [==============================] - 0s 2ms/step - loss: 0.4007 - accuracy: 0.8139\n",
            "Epoch 12/100\n",
            "176/176 [==============================] - 0s 2ms/step - loss: 0.4000 - accuracy: 0.8133\n",
            "Epoch 13/100\n",
            "176/176 [==============================] - 0s 2ms/step - loss: 0.3988 - accuracy: 0.8117\n",
            "Epoch 14/100\n",
            "176/176 [==============================] - 0s 2ms/step - loss: 0.3980 - accuracy: 0.8151\n",
            "Epoch 15/100\n",
            "176/176 [==============================] - 0s 2ms/step - loss: 0.3969 - accuracy: 0.8137\n",
            "Epoch 16/100\n",
            "176/176 [==============================] - 0s 2ms/step - loss: 0.3950 - accuracy: 0.8160\n",
            "Epoch 17/100\n",
            "176/176 [==============================] - 0s 2ms/step - loss: 0.3946 - accuracy: 0.8146\n",
            "Epoch 18/100\n",
            "176/176 [==============================] - 0s 2ms/step - loss: 0.3918 - accuracy: 0.8123\n",
            "Epoch 19/100\n",
            "176/176 [==============================] - 0s 2ms/step - loss: 0.3935 - accuracy: 0.8132\n",
            "Epoch 20/100\n",
            "176/176 [==============================] - 0s 2ms/step - loss: 0.3925 - accuracy: 0.8183\n",
            "Epoch 21/100\n",
            "176/176 [==============================] - 0s 2ms/step - loss: 0.3914 - accuracy: 0.8178\n",
            "Epoch 22/100\n",
            "176/176 [==============================] - 0s 2ms/step - loss: 0.3904 - accuracy: 0.8172\n",
            "Epoch 23/100\n",
            "176/176 [==============================] - 0s 2ms/step - loss: 0.3899 - accuracy: 0.8174\n",
            "Epoch 24/100\n",
            "176/176 [==============================] - 0s 2ms/step - loss: 0.3890 - accuracy: 0.8206\n",
            "Epoch 25/100\n",
            "176/176 [==============================] - 0s 2ms/step - loss: 0.3885 - accuracy: 0.8220\n",
            "Epoch 26/100\n",
            "176/176 [==============================] - 0s 2ms/step - loss: 0.3876 - accuracy: 0.8194\n",
            "Epoch 27/100\n",
            "176/176 [==============================] - 0s 2ms/step - loss: 0.3869 - accuracy: 0.8201\n",
            "Epoch 28/100\n",
            "176/176 [==============================] - 0s 2ms/step - loss: 0.3856 - accuracy: 0.8217\n",
            "Epoch 29/100\n",
            "176/176 [==============================] - 0s 2ms/step - loss: 0.3871 - accuracy: 0.8196\n",
            "Epoch 30/100\n",
            "176/176 [==============================] - 0s 2ms/step - loss: 0.3862 - accuracy: 0.8176\n",
            "Epoch 31/100\n",
            "176/176 [==============================] - 0s 2ms/step - loss: 0.3832 - accuracy: 0.8215\n",
            "Epoch 32/100\n",
            "176/176 [==============================] - 0s 2ms/step - loss: 0.3858 - accuracy: 0.8256\n",
            "Epoch 33/100\n",
            "176/176 [==============================] - 0s 2ms/step - loss: 0.3826 - accuracy: 0.8208\n",
            "Epoch 34/100\n",
            "176/176 [==============================] - 0s 2ms/step - loss: 0.3838 - accuracy: 0.8197\n",
            "Epoch 35/100\n",
            "176/176 [==============================] - 0s 2ms/step - loss: 0.3825 - accuracy: 0.8206\n",
            "Epoch 36/100\n",
            "176/176 [==============================] - 0s 2ms/step - loss: 0.3818 - accuracy: 0.8208\n",
            "Epoch 37/100\n",
            "176/176 [==============================] - 0s 2ms/step - loss: 0.3835 - accuracy: 0.8267\n",
            "Epoch 38/100\n",
            "176/176 [==============================] - 0s 2ms/step - loss: 0.3793 - accuracy: 0.8242\n",
            "Epoch 39/100\n",
            "176/176 [==============================] - 0s 2ms/step - loss: 0.3790 - accuracy: 0.8268\n",
            "Epoch 40/100\n",
            "176/176 [==============================] - 0s 2ms/step - loss: 0.3795 - accuracy: 0.8226\n",
            "Epoch 41/100\n",
            "176/176 [==============================] - 0s 2ms/step - loss: 0.3792 - accuracy: 0.8242\n",
            "Epoch 42/100\n",
            "176/176 [==============================] - 0s 2ms/step - loss: 0.3767 - accuracy: 0.8215\n",
            "Epoch 43/100\n",
            "176/176 [==============================] - 0s 2ms/step - loss: 0.3775 - accuracy: 0.8252\n",
            "Epoch 44/100\n",
            "176/176 [==============================] - 0s 2ms/step - loss: 0.3770 - accuracy: 0.8261\n",
            "Epoch 45/100\n",
            "176/176 [==============================] - 0s 2ms/step - loss: 0.3764 - accuracy: 0.8222\n",
            "Epoch 46/100\n",
            "176/176 [==============================] - 0s 1ms/step - loss: 0.3761 - accuracy: 0.8245\n",
            "Epoch 47/100\n",
            "176/176 [==============================] - 0s 2ms/step - loss: 0.3749 - accuracy: 0.8272\n",
            "Epoch 48/100\n",
            "176/176 [==============================] - 0s 2ms/step - loss: 0.3733 - accuracy: 0.8274\n",
            "Epoch 49/100\n",
            "176/176 [==============================] - 0s 2ms/step - loss: 0.3734 - accuracy: 0.8252\n",
            "Epoch 50/100\n",
            "176/176 [==============================] - 0s 2ms/step - loss: 0.3740 - accuracy: 0.8267\n",
            "Epoch 51/100\n",
            "176/176 [==============================] - 0s 2ms/step - loss: 0.3725 - accuracy: 0.8293\n",
            "Epoch 52/100\n",
            "176/176 [==============================] - 0s 2ms/step - loss: 0.3721 - accuracy: 0.8302\n",
            "Epoch 53/100\n",
            "176/176 [==============================] - 0s 2ms/step - loss: 0.3715 - accuracy: 0.8268\n",
            "Epoch 54/100\n",
            "176/176 [==============================] - 0s 2ms/step - loss: 0.3717 - accuracy: 0.8267\n",
            "Epoch 55/100\n",
            "176/176 [==============================] - 0s 2ms/step - loss: 0.3697 - accuracy: 0.8279\n",
            "Epoch 56/100\n",
            "176/176 [==============================] - 0s 2ms/step - loss: 0.3706 - accuracy: 0.8295\n",
            "Epoch 57/100\n",
            "176/176 [==============================] - 0s 2ms/step - loss: 0.3695 - accuracy: 0.8270\n",
            "Epoch 58/100\n",
            "176/176 [==============================] - 0s 2ms/step - loss: 0.3702 - accuracy: 0.8254\n",
            "Epoch 59/100\n",
            "176/176 [==============================] - 0s 2ms/step - loss: 0.3695 - accuracy: 0.8293\n",
            "Epoch 60/100\n",
            "176/176 [==============================] - 0s 2ms/step - loss: 0.3692 - accuracy: 0.8288\n",
            "Epoch 61/100\n",
            "176/176 [==============================] - 0s 1ms/step - loss: 0.3674 - accuracy: 0.8284\n",
            "Epoch 62/100\n",
            "176/176 [==============================] - 0s 2ms/step - loss: 0.3663 - accuracy: 0.8302\n",
            "Epoch 63/100\n",
            "176/176 [==============================] - 0s 2ms/step - loss: 0.3671 - accuracy: 0.8288\n",
            "Epoch 64/100\n",
            "176/176 [==============================] - 0s 2ms/step - loss: 0.3654 - accuracy: 0.8300\n",
            "Epoch 65/100\n",
            "176/176 [==============================] - 0s 2ms/step - loss: 0.3659 - accuracy: 0.8322\n",
            "Epoch 66/100\n",
            "176/176 [==============================] - 0s 2ms/step - loss: 0.3663 - accuracy: 0.8293\n",
            "Epoch 67/100\n",
            "176/176 [==============================] - 0s 2ms/step - loss: 0.3645 - accuracy: 0.8297\n",
            "Epoch 68/100\n",
            "176/176 [==============================] - 0s 2ms/step - loss: 0.3630 - accuracy: 0.8300\n",
            "Epoch 69/100\n",
            "176/176 [==============================] - 0s 2ms/step - loss: 0.3643 - accuracy: 0.8281\n",
            "Epoch 70/100\n",
            "176/176 [==============================] - 0s 2ms/step - loss: 0.3629 - accuracy: 0.8315\n",
            "Epoch 71/100\n",
            "176/176 [==============================] - 0s 2ms/step - loss: 0.3633 - accuracy: 0.8292\n",
            "Epoch 72/100\n",
            "176/176 [==============================] - 0s 2ms/step - loss: 0.3606 - accuracy: 0.8329\n",
            "Epoch 73/100\n",
            "176/176 [==============================] - 0s 2ms/step - loss: 0.3624 - accuracy: 0.8329\n",
            "Epoch 74/100\n",
            "176/176 [==============================] - 0s 2ms/step - loss: 0.3614 - accuracy: 0.8320\n",
            "Epoch 75/100\n",
            "176/176 [==============================] - 0s 2ms/step - loss: 0.3613 - accuracy: 0.8329\n",
            "Epoch 76/100\n",
            "176/176 [==============================] - 0s 2ms/step - loss: 0.3603 - accuracy: 0.8338\n",
            "Epoch 77/100\n",
            "176/176 [==============================] - 0s 2ms/step - loss: 0.3588 - accuracy: 0.8313\n",
            "Epoch 78/100\n",
            "176/176 [==============================] - 0s 2ms/step - loss: 0.3600 - accuracy: 0.8297\n",
            "Epoch 79/100\n",
            "176/176 [==============================] - 0s 2ms/step - loss: 0.3587 - accuracy: 0.8338\n",
            "Epoch 80/100\n",
            "176/176 [==============================] - 0s 2ms/step - loss: 0.3589 - accuracy: 0.8338\n",
            "Epoch 81/100\n",
            "176/176 [==============================] - 0s 2ms/step - loss: 0.3577 - accuracy: 0.8352\n",
            "Epoch 82/100\n",
            "176/176 [==============================] - 0s 2ms/step - loss: 0.3570 - accuracy: 0.8320\n",
            "Epoch 83/100\n",
            "176/176 [==============================] - 0s 2ms/step - loss: 0.3565 - accuracy: 0.8352\n",
            "Epoch 84/100\n",
            "176/176 [==============================] - 0s 2ms/step - loss: 0.3556 - accuracy: 0.8293\n",
            "Epoch 85/100\n",
            "176/176 [==============================] - 0s 2ms/step - loss: 0.3560 - accuracy: 0.8311\n",
            "Epoch 86/100\n",
            "176/176 [==============================] - 0s 2ms/step - loss: 0.3545 - accuracy: 0.8325\n",
            "Epoch 87/100\n",
            "176/176 [==============================] - 0s 2ms/step - loss: 0.3560 - accuracy: 0.8334\n",
            "Epoch 88/100\n",
            "176/176 [==============================] - 0s 2ms/step - loss: 0.3550 - accuracy: 0.8327\n",
            "Epoch 89/100\n",
            "176/176 [==============================] - 0s 2ms/step - loss: 0.3554 - accuracy: 0.8359\n",
            "Epoch 90/100\n",
            "176/176 [==============================] - 0s 2ms/step - loss: 0.3545 - accuracy: 0.8347\n",
            "Epoch 91/100\n",
            "176/176 [==============================] - 0s 2ms/step - loss: 0.3531 - accuracy: 0.8368\n",
            "Epoch 92/100\n",
            "176/176 [==============================] - 0s 2ms/step - loss: 0.3529 - accuracy: 0.8361\n",
            "Epoch 93/100\n",
            "176/176 [==============================] - 0s 2ms/step - loss: 0.3534 - accuracy: 0.8320\n",
            "Epoch 94/100\n",
            "176/176 [==============================] - 0s 2ms/step - loss: 0.3522 - accuracy: 0.8368\n",
            "Epoch 95/100\n",
            "176/176 [==============================] - 0s 2ms/step - loss: 0.3520 - accuracy: 0.8361\n",
            "Epoch 96/100\n",
            "176/176 [==============================] - 0s 2ms/step - loss: 0.3519 - accuracy: 0.8324\n",
            "Epoch 97/100\n",
            "176/176 [==============================] - 0s 2ms/step - loss: 0.3500 - accuracy: 0.8366\n",
            "Epoch 98/100\n",
            "176/176 [==============================] - 0s 2ms/step - loss: 0.3514 - accuracy: 0.8341\n",
            "Epoch 99/100\n",
            "176/176 [==============================] - 0s 2ms/step - loss: 0.3503 - accuracy: 0.8370\n",
            "Epoch 100/100\n",
            "176/176 [==============================] - 0s 2ms/step - loss: 0.3500 - accuracy: 0.8361\n"
          ]
        },
        {
          "output_type": "execute_result",
          "data": {
            "text/plain": [
              "<keras.callbacks.History at 0x7f1001d2ecd0>"
            ]
          },
          "metadata": {},
          "execution_count": 42
        }
      ]
    },
    {
      "cell_type": "code",
      "metadata": {
        "colab": {
          "base_uri": "https://localhost:8080/"
        },
        "id": "OvFZNNyoxRM-",
        "outputId": "0472a523-a26a-43d2-d7d0-192efa365c43"
      },
      "source": [
        "model.evaluate(X_test, Y_test)"
      ],
      "execution_count": null,
      "outputs": [
        {
          "output_type": "stream",
          "name": "stdout",
          "text": [
            "44/44 [==============================] - 0s 992us/step - loss: 0.5031 - accuracy: 0.7804\n"
          ]
        },
        {
          "output_type": "execute_result",
          "data": {
            "text/plain": [
              "[0.5030996203422546, 0.7803837656974792]"
            ]
          },
          "metadata": {},
          "execution_count": 43
        }
      ]
    },
    {
      "cell_type": "code",
      "metadata": {
        "id": "DCwmLJylxVRI",
        "colab": {
          "base_uri": "https://localhost:8080/"
        },
        "outputId": "b9fabed7-9ef9-464b-a38a-f6ed2091f5e7"
      },
      "source": [
        "Y_pred = model.predict(X_test)\n",
        "Y_pred[:5]"
      ],
      "execution_count": null,
      "outputs": [
        {
          "output_type": "execute_result",
          "data": {
            "text/plain": [
              "array([[0.20009261],\n",
              "       [0.5907477 ],\n",
              "       [0.00295496],\n",
              "       [0.871117  ],\n",
              "       [0.6228858 ]], dtype=float32)"
            ]
          },
          "metadata": {},
          "execution_count": 44
        }
      ]
    },
    {
      "cell_type": "code",
      "metadata": {
        "id": "LvSb_fXYxmaw"
      },
      "source": [
        "yp = []\n",
        "for element in Y_pred:\n",
        "  if element>0.5:\n",
        "    yp.append(1)\n",
        "  else:\n",
        "    yp.append(0)"
      ],
      "execution_count": null,
      "outputs": []
    },
    {
      "cell_type": "code",
      "metadata": {
        "colab": {
          "base_uri": "https://localhost:8080/"
        },
        "id": "4LQ8chMizMzD",
        "outputId": "5bf179fb-3cfa-4db5-a093-bbfb2de1ba1a"
      },
      "source": [
        "yp[:10]"
      ],
      "execution_count": null,
      "outputs": [
        {
          "output_type": "execute_result",
          "data": {
            "text/plain": [
              "[0, 1, 0, 1, 1, 1, 0, 0, 0, 0]"
            ]
          },
          "metadata": {},
          "execution_count": 46
        }
      ]
    },
    {
      "cell_type": "code",
      "metadata": {
        "colab": {
          "base_uri": "https://localhost:8080/"
        },
        "id": "8ADPWx1Bxgsc",
        "outputId": "a48d39d6-a7ba-4972-ff2f-4e132bc55384"
      },
      "source": [
        "Y_test[:10]"
      ],
      "execution_count": null,
      "outputs": [
        {
          "output_type": "execute_result",
          "data": {
            "text/plain": [
              "2660    0\n",
              "744     0\n",
              "5579    1\n",
              "64      1\n",
              "3287    1\n",
              "816     1\n",
              "2670    0\n",
              "5920    0\n",
              "1023    0\n",
              "6087    0\n",
              "Name: Churn, dtype: int64"
            ]
          },
          "metadata": {},
          "execution_count": 47
        }
      ]
    },
    {
      "cell_type": "markdown",
      "metadata": {
        "id": "eA98NuIN0W5h"
      },
      "source": [
        "### Classification report"
      ]
    },
    {
      "cell_type": "code",
      "metadata": {
        "colab": {
          "base_uri": "https://localhost:8080/"
        },
        "id": "D8ZysG2r1k0Z",
        "outputId": "ffe8d9f0-c6dd-4881-ea62-84f77141f3c4"
      },
      "source": [
        "from sklearn.metrics import confusion_matrix, classification_report\n",
        "\n",
        "print(classification_report(Y_test,yp))"
      ],
      "execution_count": null,
      "outputs": [
        {
          "output_type": "stream",
          "name": "stdout",
          "text": [
            "              precision    recall  f1-score   support\n",
            "\n",
            "           0       0.82      0.89      0.85       999\n",
            "           1       0.65      0.51      0.58       408\n",
            "\n",
            "    accuracy                           0.78      1407\n",
            "   macro avg       0.74      0.70      0.71      1407\n",
            "weighted avg       0.77      0.78      0.77      1407\n",
            "\n"
          ]
        }
      ]
    },
    {
      "cell_type": "code",
      "metadata": {
        "colab": {
          "base_uri": "https://localhost:8080/",
          "height": 296
        },
        "id": "2JuwxLl_0ZQQ",
        "outputId": "1f005e31-15d8-45b6-9d73-5f9cfc251c3a"
      },
      "source": [
        "import seaborn as sns\n",
        "cm = tf.math.confusion_matrix(labels=Y_test, predictions=yp)\n",
        "\n",
        "sns.heatmap(cm,annot=True, fmt='d')\n",
        "plt.xlabel('Predicted')\n",
        "plt.ylabel('True')"
      ],
      "execution_count": null,
      "outputs": [
        {
          "output_type": "execute_result",
          "data": {
            "text/plain": [
              "Text(33.0, 0.5, 'True')"
            ]
          },
          "metadata": {},
          "execution_count": 49
        },
        {
          "output_type": "display_data",
          "data": {
            "image/png": "[encoded data removed]",
            "text/plain": [
              "<Figure size 432x288 with 2 Axes>"
            ]
          },
          "metadata": {
            "needs_background": "light"
          }
        }
      ]
    },
    {
      "cell_type": "code",
      "metadata": {
        "colab": {
          "base_uri": "https://localhost:8080/"
        },
        "id": "ccYfNWjG1Pl7",
        "outputId": "9d182011-63dc-45a8-87ef-dddd34a4469e"
      },
      "source": [
        "#Accuracy\n",
        "round((908+194)/(908+145+194+160),2)"
      ],
      "execution_count": null,
      "outputs": [
        {
          "output_type": "execute_result",
          "data": {
            "text/plain": [
              "0.78"
            ]
          },
          "metadata": {},
          "execution_count": 50
        }
      ]
    },
    {
      "cell_type": "code",
      "metadata": {
        "colab": {
          "base_uri": "https://localhost:8080/"
        },
        "id": "mGp6ZJ_813rr",
        "outputId": "5cae68c0-3dc7-45af-ae5b-6ce0d43f6e8c"
      },
      "source": [
        "#Precision for 0 - out of all 0 predictions how many were correct\n",
        "round(908/(908+160),2)"
      ],
      "execution_count": null,
      "outputs": [
        {
          "output_type": "execute_result",
          "data": {
            "text/plain": [
              "0.85"
            ]
          },
          "metadata": {},
          "execution_count": 51
        }
      ]
    },
    {
      "cell_type": "code",
      "metadata": {
        "colab": {
          "base_uri": "https://localhost:8080/"
        },
        "id": "RLKYDOEy2E8h",
        "outputId": "a202081f-7cc6-4de7-ce90-ec2f671d89b5"
      },
      "source": [
        "#Precision for 1\n",
        "round(194/(145+194),2) #Because of imbalanced dataset"
      ],
      "execution_count": null,
      "outputs": [
        {
          "output_type": "execute_result",
          "data": {
            "text/plain": [
              "0.57"
            ]
          },
          "metadata": {},
          "execution_count": 52
        }
      ]
    },
    {
      "cell_type": "code",
      "metadata": {
        "colab": {
          "base_uri": "https://localhost:8080/"
        },
        "id": "ACxtxIMM2PV7",
        "outputId": "6083fd3c-9ace-486c-834a-42efbc121d68"
      },
      "source": [
        "# Recall for 0 - out of actual 0's how many of them were predicted right\n",
        "round(908/(908+145),2)"
      ],
      "execution_count": null,
      "outputs": [
        {
          "output_type": "execute_result",
          "data": {
            "text/plain": [
              "0.86"
            ]
          },
          "metadata": {},
          "execution_count": 53
        }
      ]
    },
    {
      "cell_type": "code",
      "metadata": {
        "colab": {
          "base_uri": "https://localhost:8080/"
        },
        "id": "CKLqByJb3HbD",
        "outputId": "7a170ee9-c327-409a-ccba-969be03de502"
      },
      "source": [
        "# Recall for 1 - out of actual 1's how many of them were predicted right\n",
        "round(194/(160+194),2)"
      ],
      "execution_count": null,
      "outputs": [
        {
          "output_type": "execute_result",
          "data": {
            "text/plain": [
              "0.55"
            ]
          },
          "metadata": {},
          "execution_count": 54
        }
      ]
    },
    {
      "cell_type": "markdown",
      "metadata": {
        "id": "ERSR_NJxchH5"
      },
      "source": [
        "### Imbalanced Dataset"
      ]
    },
    {
      "cell_type": "code",
      "metadata": {
        "colab": {
          "base_uri": "https://localhost:8080/"
        },
        "id": "lDHifRbUcoKP",
        "outputId": "af53b69f-11c8-4a90-97fb-aa5f2d84439c"
      },
      "source": [
        "class_count_0, class_count_1 = df_new['Churn'].value_counts()\n",
        "class_count_0, class_count_1"
      ],
      "execution_count": null,
      "outputs": [
        {
          "output_type": "execute_result",
          "data": {
            "text/plain": [
              "(5163, 1869)"
            ]
          },
          "metadata": {},
          "execution_count": 155
        }
      ]
    },
    {
      "cell_type": "code",
      "metadata": {
        "id": "yx3_5rFTcvbl"
      },
      "source": [
        "#Created seperate dataframes for both\n",
        "df_class_0 = df_new[df_new['Churn']==0]\n",
        "df_class_1 = df_new[df_new['Churn']==1]"
      ],
      "execution_count": null,
      "outputs": []
    },
    {
      "cell_type": "code",
      "metadata": {
        "colab": {
          "base_uri": "https://localhost:8080/"
        },
        "id": "ElEQbrqFc-sO",
        "outputId": "3278855d-deea-4cc4-b629-37a559e09dee"
      },
      "source": [
        "df_class_0.shape, df_class_1.shape"
      ],
      "execution_count": null,
      "outputs": [
        {
          "output_type": "execute_result",
          "data": {
            "text/plain": [
              "((5163, 27), (1869, 27))"
            ]
          },
          "metadata": {},
          "execution_count": 157
        }
      ]
    },
    {
      "cell_type": "code",
      "metadata": {
        "colab": {
          "base_uri": "https://localhost:8080/"
        },
        "id": "N1e9pDZMhFVZ",
        "outputId": "39391e7d-eb21-4725-e539-93eace73123f"
      },
      "source": [
        "# OverSampling minority class\n",
        "df_class_1_over = df_class_1.sample(class_count_0, replace=True)\n",
        "df_class_1_over.shape"
      ],
      "execution_count": 208,
      "outputs": [
        {
          "output_type": "execute_result",
          "data": {
            "text/plain": [
              "(5163, 27)"
            ]
          },
          "metadata": {},
          "execution_count": 208
        }
      ]
    },
    {
      "cell_type": "code",
      "metadata": {
        "colab": {
          "base_uri": "https://localhost:8080/"
        },
        "id": "aJ70Dg4hhpPJ",
        "outputId": "12c77f83-3914-4815-c7e2-949a314c5f43"
      },
      "source": [
        "#Combine both dataframes\n",
        "df_test_over = pd.concat([df_class_0, df_class_1_over], axis=0)\n",
        "df_test_over.shape"
      ],
      "execution_count": null,
      "outputs": [
        {
          "output_type": "execute_result",
          "data": {
            "text/plain": [
              "(10326, 27)"
            ]
          },
          "metadata": {},
          "execution_count": 166
        }
      ]
    },
    {
      "cell_type": "code",
      "metadata": {
        "colab": {
          "base_uri": "https://localhost:8080/"
        },
        "id": "Z4oEkYakiENB",
        "outputId": "5a791673-12ce-49d1-a953-c292cfa8a14e"
      },
      "source": [
        "df_test_over['Churn'].value_counts()"
      ],
      "execution_count": null,
      "outputs": [
        {
          "output_type": "execute_result",
          "data": {
            "text/plain": [
              "1    5163\n",
              "0    5163\n",
              "Name: Churn, dtype: int64"
            ]
          },
          "metadata": {},
          "execution_count": 167
        }
      ]
    },
    {
      "cell_type": "code",
      "metadata": {
        "id": "vEkjgjnBiLwI"
      },
      "source": [
        "X = df_test_over.drop('Churn',axis=1)\n",
        "Y = df_test_over['Churn']\n",
        "\n",
        "from sklearn.model_selection import train_test_split\n",
        "# Stratify makes sure that X_train and X_test each have equal 0's and 1's\n",
        "X_train, X_test, Y_train, Y_test = train_test_split(X,Y,test_size=0.2,random_state=15, stratify=Y)"
      ],
      "execution_count": null,
      "outputs": []
    },
    {
      "cell_type": "code",
      "metadata": {
        "colab": {
          "base_uri": "https://localhost:8080/"
        },
        "id": "py5kZ2oSifGL",
        "outputId": "c3d46b21-d29a-4e03-f589-933e31a52384"
      },
      "source": [
        "Y_train.value_counts()"
      ],
      "execution_count": null,
      "outputs": [
        {
          "output_type": "execute_result",
          "data": {
            "text/plain": [
              "1    4130\n",
              "0    4130\n",
              "Name: Churn, dtype: int64"
            ]
          },
          "metadata": {},
          "execution_count": 169
        }
      ]
    },
    {
      "cell_type": "code",
      "metadata": {
        "colab": {
          "base_uri": "https://localhost:8080/"
        },
        "id": "DMdXJz1fip8_",
        "outputId": "831726e6-e6ab-4a1b-b66b-c7cf4628710b"
      },
      "source": [
        "model = keras.Sequential([\n",
        "    keras.layers.Dense(26, input_shape=(26,), activation='relu'),\n",
        "    keras.layers.Dense(15, activation='relu'),\n",
        "    keras.layers.Dense(1, activation='sigmoid')\n",
        "])\n",
        "\n",
        "model.compile(optimizer='adam',\n",
        "              loss = 'binary_crossentropy',\n",
        "              metrics=['accuracy'])\n",
        "\n",
        "model.fit(X_train,Y_train,epochs=200)"
      ],
      "execution_count": null,
      "outputs": [
        {
          "output_type": "stream",
          "name": "stdout",
          "text": [
            "Epoch 1/200\n",
            "259/259 [==============================] - 1s 2ms/step - loss: 0.5424 - accuracy: 0.7344\n",
            "Epoch 2/200\n",
            "259/259 [==============================] - 0s 2ms/step - loss: 0.4900 - accuracy: 0.7607\n",
            "Epoch 3/200\n",
            "259/259 [==============================] - 0s 2ms/step - loss: 0.4836 - accuracy: 0.7632\n",
            "Epoch 4/200\n",
            "259/259 [==============================] - 0s 2ms/step - loss: 0.4781 - accuracy: 0.7656\n",
            "Epoch 5/200\n",
            "259/259 [==============================] - 0s 2ms/step - loss: 0.4744 - accuracy: 0.7706\n",
            "Epoch 6/200\n",
            "259/259 [==============================] - 0s 2ms/step - loss: 0.4708 - accuracy: 0.7715\n",
            "Epoch 7/200\n",
            "259/259 [==============================] - 0s 2ms/step - loss: 0.4678 - accuracy: 0.7751\n",
            "Epoch 8/200\n",
            "259/259 [==============================] - 0s 2ms/step - loss: 0.4641 - accuracy: 0.7769\n",
            "Epoch 9/200\n",
            "259/259 [==============================] - 0s 2ms/step - loss: 0.4615 - accuracy: 0.7792\n",
            "Epoch 10/200\n",
            "259/259 [==============================] - 0s 2ms/step - loss: 0.4593 - accuracy: 0.7812\n",
            "Epoch 11/200\n",
            "259/259 [==============================] - 0s 2ms/step - loss: 0.4551 - accuracy: 0.7844\n",
            "Epoch 12/200\n",
            "259/259 [==============================] - 0s 2ms/step - loss: 0.4533 - accuracy: 0.7847\n",
            "Epoch 13/200\n",
            "259/259 [==============================] - 0s 2ms/step - loss: 0.4498 - accuracy: 0.7856\n",
            "Epoch 14/200\n",
            "259/259 [==============================] - 0s 2ms/step - loss: 0.4475 - accuracy: 0.7890\n",
            "Epoch 15/200\n",
            "259/259 [==============================] - 0s 2ms/step - loss: 0.4462 - accuracy: 0.7881\n",
            "Epoch 16/200\n",
            "259/259 [==============================] - 0s 2ms/step - loss: 0.4430 - accuracy: 0.7929\n",
            "Epoch 17/200\n",
            "259/259 [==============================] - 0s 2ms/step - loss: 0.4416 - accuracy: 0.7933\n",
            "Epoch 18/200\n",
            "259/259 [==============================] - 0s 2ms/step - loss: 0.4404 - accuracy: 0.7930\n",
            "Epoch 19/200\n",
            "259/259 [==============================] - 0s 2ms/step - loss: 0.4370 - accuracy: 0.7931\n",
            "Epoch 20/200\n",
            "259/259 [==============================] - 0s 2ms/step - loss: 0.4361 - accuracy: 0.7959\n",
            "Epoch 21/200\n",
            "259/259 [==============================] - 0s 2ms/step - loss: 0.4345 - accuracy: 0.7970\n",
            "Epoch 22/200\n",
            "259/259 [==============================] - 0s 2ms/step - loss: 0.4321 - accuracy: 0.7981\n",
            "Epoch 23/200\n",
            "259/259 [==============================] - 0s 2ms/step - loss: 0.4310 - accuracy: 0.7952\n",
            "Epoch 24/200\n",
            "259/259 [==============================] - 0s 2ms/step - loss: 0.4291 - accuracy: 0.7988\n",
            "Epoch 25/200\n",
            "259/259 [==============================] - 0s 2ms/step - loss: 0.4275 - accuracy: 0.8025\n",
            "Epoch 26/200\n",
            "259/259 [==============================] - 0s 2ms/step - loss: 0.4270 - accuracy: 0.8005\n",
            "Epoch 27/200\n",
            "259/259 [==============================] - 0s 2ms/step - loss: 0.4250 - accuracy: 0.8012\n",
            "Epoch 28/200\n",
            "259/259 [==============================] - 0s 2ms/step - loss: 0.4241 - accuracy: 0.8023\n",
            "Epoch 29/200\n",
            "259/259 [==============================] - 0s 2ms/step - loss: 0.4221 - accuracy: 0.8018\n",
            "Epoch 30/200\n",
            "259/259 [==============================] - 0s 2ms/step - loss: 0.4200 - accuracy: 0.8022\n",
            "Epoch 31/200\n",
            "259/259 [==============================] - 0s 2ms/step - loss: 0.4212 - accuracy: 0.8069\n",
            "Epoch 32/200\n",
            "259/259 [==============================] - 0s 2ms/step - loss: 0.4180 - accuracy: 0.8059\n",
            "Epoch 33/200\n",
            "259/259 [==============================] - 0s 2ms/step - loss: 0.4174 - accuracy: 0.8044\n",
            "Epoch 34/200\n",
            "259/259 [==============================] - 0s 2ms/step - loss: 0.4153 - accuracy: 0.8069\n",
            "Epoch 35/200\n",
            "259/259 [==============================] - 0s 2ms/step - loss: 0.4148 - accuracy: 0.8091\n",
            "Epoch 36/200\n",
            "259/259 [==============================] - 0s 2ms/step - loss: 0.4146 - accuracy: 0.8107\n",
            "Epoch 37/200\n",
            "259/259 [==============================] - 0s 2ms/step - loss: 0.4128 - accuracy: 0.8075\n",
            "Epoch 38/200\n",
            "259/259 [==============================] - 0s 2ms/step - loss: 0.4114 - accuracy: 0.8103\n",
            "Epoch 39/200\n",
            "259/259 [==============================] - 0s 2ms/step - loss: 0.4110 - accuracy: 0.8096\n",
            "Epoch 40/200\n",
            "259/259 [==============================] - 0s 2ms/step - loss: 0.4102 - accuracy: 0.8126\n",
            "Epoch 41/200\n",
            "259/259 [==============================] - 0s 2ms/step - loss: 0.4077 - accuracy: 0.8137\n",
            "Epoch 42/200\n",
            "259/259 [==============================] - 0s 2ms/step - loss: 0.4077 - accuracy: 0.8133\n",
            "Epoch 43/200\n",
            "259/259 [==============================] - 0s 2ms/step - loss: 0.4071 - accuracy: 0.8109\n",
            "Epoch 44/200\n",
            "259/259 [==============================] - 0s 2ms/step - loss: 0.4069 - accuracy: 0.8126\n",
            "Epoch 45/200\n",
            "259/259 [==============================] - 0s 2ms/step - loss: 0.4040 - accuracy: 0.8157\n",
            "Epoch 46/200\n",
            "259/259 [==============================] - 0s 2ms/step - loss: 0.4032 - accuracy: 0.8148\n",
            "Epoch 47/200\n",
            "259/259 [==============================] - 0s 2ms/step - loss: 0.4019 - accuracy: 0.8169\n",
            "Epoch 48/200\n",
            "259/259 [==============================] - 0s 2ms/step - loss: 0.4020 - accuracy: 0.8139\n",
            "Epoch 49/200\n",
            "259/259 [==============================] - 0s 2ms/step - loss: 0.4008 - accuracy: 0.8180\n",
            "Epoch 50/200\n",
            "259/259 [==============================] - 0s 2ms/step - loss: 0.4004 - accuracy: 0.8184\n",
            "Epoch 51/200\n",
            "259/259 [==============================] - 0s 2ms/step - loss: 0.3995 - accuracy: 0.8202\n",
            "Epoch 52/200\n",
            "259/259 [==============================] - 0s 2ms/step - loss: 0.4006 - accuracy: 0.8199\n",
            "Epoch 53/200\n",
            "259/259 [==============================] - 0s 2ms/step - loss: 0.3973 - accuracy: 0.8185\n",
            "Epoch 54/200\n",
            "259/259 [==============================] - 0s 2ms/step - loss: 0.3957 - accuracy: 0.8214\n",
            "Epoch 55/200\n",
            "259/259 [==============================] - 0s 2ms/step - loss: 0.3950 - accuracy: 0.8224\n",
            "Epoch 56/200\n",
            "259/259 [==============================] - 0s 2ms/step - loss: 0.3943 - accuracy: 0.8209\n",
            "Epoch 57/200\n",
            "259/259 [==============================] - 0s 2ms/step - loss: 0.3940 - accuracy: 0.8205\n",
            "Epoch 58/200\n",
            "259/259 [==============================] - 0s 2ms/step - loss: 0.3929 - accuracy: 0.8257\n",
            "Epoch 59/200\n",
            "259/259 [==============================] - 0s 2ms/step - loss: 0.3939 - accuracy: 0.8225\n",
            "Epoch 60/200\n",
            "259/259 [==============================] - 0s 2ms/step - loss: 0.3903 - accuracy: 0.8255\n",
            "Epoch 61/200\n",
            "259/259 [==============================] - 0s 2ms/step - loss: 0.3913 - accuracy: 0.8247\n",
            "Epoch 62/200\n",
            "259/259 [==============================] - 0s 2ms/step - loss: 0.3899 - accuracy: 0.8264\n",
            "Epoch 63/200\n",
            "259/259 [==============================] - 0s 2ms/step - loss: 0.3888 - accuracy: 0.8258\n",
            "Epoch 64/200\n",
            "259/259 [==============================] - 0s 2ms/step - loss: 0.3885 - accuracy: 0.8247\n",
            "Epoch 65/200\n",
            "259/259 [==============================] - 0s 2ms/step - loss: 0.3892 - accuracy: 0.8266\n",
            "Epoch 66/200\n",
            "259/259 [==============================] - 0s 2ms/step - loss: 0.3870 - accuracy: 0.8280\n",
            "Epoch 67/200\n",
            "259/259 [==============================] - 0s 2ms/step - loss: 0.3876 - accuracy: 0.8257\n",
            "Epoch 68/200\n",
            "259/259 [==============================] - 0s 2ms/step - loss: 0.3853 - accuracy: 0.8248\n",
            "Epoch 69/200\n",
            "259/259 [==============================] - 0s 2ms/step - loss: 0.3866 - accuracy: 0.8271\n",
            "Epoch 70/200\n",
            "259/259 [==============================] - 0s 2ms/step - loss: 0.3839 - accuracy: 0.8276\n",
            "Epoch 71/200\n",
            "259/259 [==============================] - 0s 2ms/step - loss: 0.3841 - accuracy: 0.8257\n",
            "Epoch 72/200\n",
            "259/259 [==============================] - 0s 2ms/step - loss: 0.3834 - accuracy: 0.8294\n",
            "Epoch 73/200\n",
            "259/259 [==============================] - 0s 2ms/step - loss: 0.3841 - accuracy: 0.8276\n",
            "Epoch 74/200\n",
            "259/259 [==============================] - 0s 2ms/step - loss: 0.3830 - accuracy: 0.8277\n",
            "Epoch 75/200\n",
            "259/259 [==============================] - 0s 2ms/step - loss: 0.3821 - accuracy: 0.8280\n",
            "Epoch 76/200\n",
            "259/259 [==============================] - 0s 2ms/step - loss: 0.3799 - accuracy: 0.8309\n",
            "Epoch 77/200\n",
            "259/259 [==============================] - 0s 2ms/step - loss: 0.3813 - accuracy: 0.8287\n",
            "Epoch 78/200\n",
            "259/259 [==============================] - 0s 2ms/step - loss: 0.3794 - accuracy: 0.8315\n",
            "Epoch 79/200\n",
            "259/259 [==============================] - 0s 2ms/step - loss: 0.3791 - accuracy: 0.8310\n",
            "Epoch 80/200\n",
            "259/259 [==============================] - 0s 2ms/step - loss: 0.3785 - accuracy: 0.8300\n",
            "Epoch 81/200\n",
            "259/259 [==============================] - 0s 2ms/step - loss: 0.3770 - accuracy: 0.8333\n",
            "Epoch 82/200\n",
            "259/259 [==============================] - 0s 2ms/step - loss: 0.3775 - accuracy: 0.8314\n",
            "Epoch 83/200\n",
            "259/259 [==============================] - 0s 2ms/step - loss: 0.3766 - accuracy: 0.8314\n",
            "Epoch 84/200\n",
            "259/259 [==============================] - 0s 2ms/step - loss: 0.3762 - accuracy: 0.8324\n",
            "Epoch 85/200\n",
            "259/259 [==============================] - 0s 2ms/step - loss: 0.3747 - accuracy: 0.8341\n",
            "Epoch 86/200\n",
            "259/259 [==============================] - 0s 2ms/step - loss: 0.3754 - accuracy: 0.8318\n",
            "Epoch 87/200\n",
            "259/259 [==============================] - 0s 2ms/step - loss: 0.3751 - accuracy: 0.8329\n",
            "Epoch 88/200\n",
            "259/259 [==============================] - 0s 2ms/step - loss: 0.3732 - accuracy: 0.8355\n",
            "Epoch 89/200\n",
            "259/259 [==============================] - 0s 2ms/step - loss: 0.3736 - accuracy: 0.8349\n",
            "Epoch 90/200\n",
            "259/259 [==============================] - 0s 2ms/step - loss: 0.3720 - accuracy: 0.8360\n",
            "Epoch 91/200\n",
            "259/259 [==============================] - 0s 2ms/step - loss: 0.3740 - accuracy: 0.8323\n",
            "Epoch 92/200\n",
            "259/259 [==============================] - 0s 2ms/step - loss: 0.3735 - accuracy: 0.8328\n",
            "Epoch 93/200\n",
            "259/259 [==============================] - 0s 2ms/step - loss: 0.3725 - accuracy: 0.8341\n",
            "Epoch 94/200\n",
            "259/259 [==============================] - 0s 2ms/step - loss: 0.3718 - accuracy: 0.8361\n",
            "Epoch 95/200\n",
            "259/259 [==============================] - 0s 2ms/step - loss: 0.3708 - accuracy: 0.8363\n",
            "Epoch 96/200\n",
            "259/259 [==============================] - 0s 2ms/step - loss: 0.3711 - accuracy: 0.8341\n",
            "Epoch 97/200\n",
            "259/259 [==============================] - 0s 2ms/step - loss: 0.3707 - accuracy: 0.8357\n",
            "Epoch 98/200\n",
            "259/259 [==============================] - 0s 2ms/step - loss: 0.3686 - accuracy: 0.8393\n",
            "Epoch 99/200\n",
            "259/259 [==============================] - 0s 2ms/step - loss: 0.3690 - accuracy: 0.8379\n",
            "Epoch 100/200\n",
            "259/259 [==============================] - 0s 2ms/step - loss: 0.3674 - accuracy: 0.8381\n",
            "Epoch 101/200\n",
            "259/259 [==============================] - 0s 2ms/step - loss: 0.3682 - accuracy: 0.8368\n",
            "Epoch 102/200\n",
            "259/259 [==============================] - 0s 2ms/step - loss: 0.3671 - accuracy: 0.8375\n",
            "Epoch 103/200\n",
            "259/259 [==============================] - 0s 2ms/step - loss: 0.3667 - accuracy: 0.8362\n",
            "Epoch 104/200\n",
            "259/259 [==============================] - 0s 2ms/step - loss: 0.3659 - accuracy: 0.8387\n",
            "Epoch 105/200\n",
            "259/259 [==============================] - 0s 2ms/step - loss: 0.3659 - accuracy: 0.8374\n",
            "Epoch 106/200\n",
            "259/259 [==============================] - 0s 2ms/step - loss: 0.3645 - accuracy: 0.8390\n",
            "Epoch 107/200\n",
            "259/259 [==============================] - 0s 2ms/step - loss: 0.3658 - accuracy: 0.8383\n",
            "Epoch 108/200\n",
            "259/259 [==============================] - 0s 2ms/step - loss: 0.3651 - accuracy: 0.8383\n",
            "Epoch 109/200\n",
            "259/259 [==============================] - 0s 2ms/step - loss: 0.3639 - accuracy: 0.8389\n",
            "Epoch 110/200\n",
            "259/259 [==============================] - 0s 2ms/step - loss: 0.3622 - accuracy: 0.8390\n",
            "Epoch 111/200\n",
            "259/259 [==============================] - 0s 2ms/step - loss: 0.3640 - accuracy: 0.8389\n",
            "Epoch 112/200\n",
            "259/259 [==============================] - 0s 2ms/step - loss: 0.3624 - accuracy: 0.8408\n",
            "Epoch 113/200\n",
            "259/259 [==============================] - 0s 2ms/step - loss: 0.3617 - accuracy: 0.8426\n",
            "Epoch 114/200\n",
            "259/259 [==============================] - 0s 2ms/step - loss: 0.3615 - accuracy: 0.8410\n",
            "Epoch 115/200\n",
            "259/259 [==============================] - 0s 2ms/step - loss: 0.3612 - accuracy: 0.8407\n",
            "Epoch 116/200\n",
            "259/259 [==============================] - 0s 2ms/step - loss: 0.3601 - accuracy: 0.8402\n",
            "Epoch 117/200\n",
            "259/259 [==============================] - 0s 2ms/step - loss: 0.3583 - accuracy: 0.8427\n",
            "Epoch 118/200\n",
            "259/259 [==============================] - 0s 2ms/step - loss: 0.3595 - accuracy: 0.8401\n",
            "Epoch 119/200\n",
            "259/259 [==============================] - 0s 2ms/step - loss: 0.3594 - accuracy: 0.8449\n",
            "Epoch 120/200\n",
            "259/259 [==============================] - 0s 2ms/step - loss: 0.3591 - accuracy: 0.8414\n",
            "Epoch 121/200\n",
            "259/259 [==============================] - 0s 2ms/step - loss: 0.3593 - accuracy: 0.8426\n",
            "Epoch 122/200\n",
            "259/259 [==============================] - 0s 2ms/step - loss: 0.3569 - accuracy: 0.8432\n",
            "Epoch 123/200\n",
            "259/259 [==============================] - 0s 2ms/step - loss: 0.3581 - accuracy: 0.8423\n",
            "Epoch 124/200\n",
            "259/259 [==============================] - 0s 2ms/step - loss: 0.3571 - accuracy: 0.8443\n",
            "Epoch 125/200\n",
            "259/259 [==============================] - 0s 2ms/step - loss: 0.3574 - accuracy: 0.8437\n",
            "Epoch 126/200\n",
            "259/259 [==============================] - 0s 2ms/step - loss: 0.3560 - accuracy: 0.8427\n",
            "Epoch 127/200\n",
            "259/259 [==============================] - 0s 2ms/step - loss: 0.3566 - accuracy: 0.8419\n",
            "Epoch 128/200\n",
            "259/259 [==============================] - 0s 2ms/step - loss: 0.3559 - accuracy: 0.8430\n",
            "Epoch 129/200\n",
            "259/259 [==============================] - 0s 2ms/step - loss: 0.3534 - accuracy: 0.8449\n",
            "Epoch 130/200\n",
            "259/259 [==============================] - 0s 2ms/step - loss: 0.3533 - accuracy: 0.8432\n",
            "Epoch 131/200\n",
            "259/259 [==============================] - 0s 2ms/step - loss: 0.3522 - accuracy: 0.8459\n",
            "Epoch 132/200\n",
            "259/259 [==============================] - 0s 2ms/step - loss: 0.3529 - accuracy: 0.8472\n",
            "Epoch 133/200\n",
            "259/259 [==============================] - 0s 2ms/step - loss: 0.3524 - accuracy: 0.8470\n",
            "Epoch 134/200\n",
            "259/259 [==============================] - 0s 2ms/step - loss: 0.3524 - accuracy: 0.8454\n",
            "Epoch 135/200\n",
            "259/259 [==============================] - 0s 2ms/step - loss: 0.3523 - accuracy: 0.8426\n",
            "Epoch 136/200\n",
            "259/259 [==============================] - 0s 2ms/step - loss: 0.3495 - accuracy: 0.8450\n",
            "Epoch 137/200\n",
            "259/259 [==============================] - 0s 2ms/step - loss: 0.3517 - accuracy: 0.8459\n",
            "Epoch 138/200\n",
            "259/259 [==============================] - 0s 2ms/step - loss: 0.3512 - accuracy: 0.8465\n",
            "Epoch 139/200\n",
            "259/259 [==============================] - 0s 2ms/step - loss: 0.3508 - accuracy: 0.8447\n",
            "Epoch 140/200\n",
            "259/259 [==============================] - 0s 2ms/step - loss: 0.3483 - accuracy: 0.8469\n",
            "Epoch 141/200\n",
            "259/259 [==============================] - 0s 2ms/step - loss: 0.3502 - accuracy: 0.8441\n",
            "Epoch 142/200\n",
            "259/259 [==============================] - 0s 2ms/step - loss: 0.3500 - accuracy: 0.8425\n",
            "Epoch 143/200\n",
            "259/259 [==============================] - 0s 2ms/step - loss: 0.3484 - accuracy: 0.8449\n",
            "Epoch 144/200\n",
            "259/259 [==============================] - 0s 2ms/step - loss: 0.3495 - accuracy: 0.8484\n",
            "Epoch 145/200\n",
            "259/259 [==============================] - 0s 2ms/step - loss: 0.3486 - accuracy: 0.8482\n",
            "Epoch 146/200\n",
            "259/259 [==============================] - 0s 2ms/step - loss: 0.3501 - accuracy: 0.8472\n",
            "Epoch 147/200\n",
            "259/259 [==============================] - 0s 2ms/step - loss: 0.3463 - accuracy: 0.8450\n",
            "Epoch 148/200\n",
            "259/259 [==============================] - 0s 2ms/step - loss: 0.3471 - accuracy: 0.8449\n",
            "Epoch 149/200\n",
            "259/259 [==============================] - 0s 2ms/step - loss: 0.3472 - accuracy: 0.8453\n",
            "Epoch 150/200\n",
            "259/259 [==============================] - 0s 2ms/step - loss: 0.3453 - accuracy: 0.8471\n",
            "Epoch 151/200\n",
            "259/259 [==============================] - 0s 2ms/step - loss: 0.3469 - accuracy: 0.8461\n",
            "Epoch 152/200\n",
            "259/259 [==============================] - 0s 2ms/step - loss: 0.3478 - accuracy: 0.8456\n",
            "Epoch 153/200\n",
            "259/259 [==============================] - 0s 2ms/step - loss: 0.3455 - accuracy: 0.8476\n",
            "Epoch 154/200\n",
            "259/259 [==============================] - 0s 2ms/step - loss: 0.3456 - accuracy: 0.8494\n",
            "Epoch 155/200\n",
            "259/259 [==============================] - 0s 2ms/step - loss: 0.3448 - accuracy: 0.8495\n",
            "Epoch 156/200\n",
            "259/259 [==============================] - 0s 2ms/step - loss: 0.3450 - accuracy: 0.8466\n",
            "Epoch 157/200\n",
            "259/259 [==============================] - 0s 2ms/step - loss: 0.3447 - accuracy: 0.8469\n",
            "Epoch 158/200\n",
            "259/259 [==============================] - 0s 2ms/step - loss: 0.3438 - accuracy: 0.8496\n",
            "Epoch 159/200\n",
            "259/259 [==============================] - 0s 2ms/step - loss: 0.3416 - accuracy: 0.8499\n",
            "Epoch 160/200\n",
            "259/259 [==============================] - 0s 2ms/step - loss: 0.3424 - accuracy: 0.8490\n",
            "Epoch 161/200\n",
            "259/259 [==============================] - 0s 2ms/step - loss: 0.3422 - accuracy: 0.8488\n",
            "Epoch 162/200\n",
            "259/259 [==============================] - 0s 2ms/step - loss: 0.3433 - accuracy: 0.8484\n",
            "Epoch 163/200\n",
            "259/259 [==============================] - 0s 2ms/step - loss: 0.3409 - accuracy: 0.8518\n",
            "Epoch 164/200\n",
            "259/259 [==============================] - 0s 2ms/step - loss: 0.3419 - accuracy: 0.8490\n",
            "Epoch 165/200\n",
            "259/259 [==============================] - 0s 2ms/step - loss: 0.3410 - accuracy: 0.8518\n",
            "Epoch 166/200\n",
            "259/259 [==============================] - 0s 2ms/step - loss: 0.3415 - accuracy: 0.8495\n",
            "Epoch 167/200\n",
            "259/259 [==============================] - 0s 2ms/step - loss: 0.3392 - accuracy: 0.8518\n",
            "Epoch 168/200\n",
            "259/259 [==============================] - 0s 2ms/step - loss: 0.3396 - accuracy: 0.8499\n",
            "Epoch 169/200\n",
            "259/259 [==============================] - 0s 2ms/step - loss: 0.3409 - accuracy: 0.8508\n",
            "Epoch 170/200\n",
            "259/259 [==============================] - 0s 2ms/step - loss: 0.3412 - accuracy: 0.8510\n",
            "Epoch 171/200\n",
            "259/259 [==============================] - 0s 2ms/step - loss: 0.3405 - accuracy: 0.8495\n",
            "Epoch 172/200\n",
            "259/259 [==============================] - 0s 2ms/step - loss: 0.3399 - accuracy: 0.8519\n",
            "Epoch 173/200\n",
            "259/259 [==============================] - 0s 2ms/step - loss: 0.3397 - accuracy: 0.8521\n",
            "Epoch 174/200\n",
            "259/259 [==============================] - 0s 2ms/step - loss: 0.3380 - accuracy: 0.8496\n",
            "Epoch 175/200\n",
            "259/259 [==============================] - 0s 2ms/step - loss: 0.3395 - accuracy: 0.8525\n",
            "Epoch 176/200\n",
            "259/259 [==============================] - 0s 2ms/step - loss: 0.3386 - accuracy: 0.8531\n",
            "Epoch 177/200\n",
            "259/259 [==============================] - 0s 2ms/step - loss: 0.3382 - accuracy: 0.8484\n",
            "Epoch 178/200\n",
            "259/259 [==============================] - 0s 2ms/step - loss: 0.3376 - accuracy: 0.8505\n",
            "Epoch 179/200\n",
            "259/259 [==============================] - 0s 2ms/step - loss: 0.3373 - accuracy: 0.8517\n",
            "Epoch 180/200\n",
            "259/259 [==============================] - 0s 2ms/step - loss: 0.3372 - accuracy: 0.8528\n",
            "Epoch 181/200\n",
            "259/259 [==============================] - 0s 2ms/step - loss: 0.3389 - accuracy: 0.8479\n",
            "Epoch 182/200\n",
            "259/259 [==============================] - 0s 2ms/step - loss: 0.3392 - accuracy: 0.8498\n",
            "Epoch 183/200\n",
            "259/259 [==============================] - 0s 2ms/step - loss: 0.3368 - accuracy: 0.8524\n",
            "Epoch 184/200\n",
            "259/259 [==============================] - 0s 2ms/step - loss: 0.3362 - accuracy: 0.8528\n",
            "Epoch 185/200\n",
            "259/259 [==============================] - 0s 2ms/step - loss: 0.3370 - accuracy: 0.8501\n",
            "Epoch 186/200\n",
            "259/259 [==============================] - 0s 2ms/step - loss: 0.3356 - accuracy: 0.8528\n",
            "Epoch 187/200\n",
            "259/259 [==============================] - 0s 2ms/step - loss: 0.3358 - accuracy: 0.8551\n",
            "Epoch 188/200\n",
            "259/259 [==============================] - 0s 2ms/step - loss: 0.3342 - accuracy: 0.8500\n",
            "Epoch 189/200\n",
            "259/259 [==============================] - 0s 2ms/step - loss: 0.3358 - accuracy: 0.8523\n",
            "Epoch 190/200\n",
            "259/259 [==============================] - 0s 2ms/step - loss: 0.3339 - accuracy: 0.8513\n",
            "Epoch 191/200\n",
            "259/259 [==============================] - 0s 2ms/step - loss: 0.3354 - accuracy: 0.8540\n",
            "Epoch 192/200\n",
            "259/259 [==============================] - 0s 2ms/step - loss: 0.3357 - accuracy: 0.8501\n",
            "Epoch 193/200\n",
            "259/259 [==============================] - 0s 2ms/step - loss: 0.3347 - accuracy: 0.8525\n",
            "Epoch 194/200\n",
            "259/259 [==============================] - 0s 2ms/step - loss: 0.3342 - accuracy: 0.8544\n",
            "Epoch 195/200\n",
            "259/259 [==============================] - 0s 2ms/step - loss: 0.3340 - accuracy: 0.8546\n",
            "Epoch 196/200\n",
            "259/259 [==============================] - 0s 2ms/step - loss: 0.3332 - accuracy: 0.8547\n",
            "Epoch 197/200\n",
            "259/259 [==============================] - 0s 2ms/step - loss: 0.3332 - accuracy: 0.8539\n",
            "Epoch 198/200\n",
            "259/259 [==============================] - 0s 2ms/step - loss: 0.3332 - accuracy: 0.8522\n",
            "Epoch 199/200\n",
            "259/259 [==============================] - 0s 2ms/step - loss: 0.3322 - accuracy: 0.8573\n",
            "Epoch 200/200\n",
            "259/259 [==============================] - 0s 2ms/step - loss: 0.3342 - accuracy: 0.8547\n"
          ]
        },
        {
          "output_type": "execute_result",
          "data": {
            "text/plain": [
              "<keras.callbacks.History at 0x7f0fef23fcd0>"
            ]
          },
          "metadata": {},
          "execution_count": 170
        }
      ]
    },
    {
      "cell_type": "code",
      "metadata": {
        "colab": {
          "base_uri": "https://localhost:8080/"
        },
        "id": "5BoitOP5jNpj",
        "outputId": "8d6d51d5-3b89-4826-e627-53e0f8540153"
      },
      "source": [
        "model.evaluate(X_test,Y_test)"
      ],
      "execution_count": null,
      "outputs": [
        {
          "output_type": "stream",
          "name": "stdout",
          "text": [
            "65/65 [==============================] - 0s 1ms/step - loss: 0.4923 - accuracy: 0.7982\n"
          ]
        },
        {
          "output_type": "execute_result",
          "data": {
            "text/plain": [
              "[0.492307186126709, 0.7981606721878052]"
            ]
          },
          "metadata": {},
          "execution_count": 171
        }
      ]
    },
    {
      "cell_type": "code",
      "metadata": {
        "colab": {
          "base_uri": "https://localhost:8080/"
        },
        "id": "PkXwpkQujEry",
        "outputId": "16206c18-05aa-467b-f10a-ca4bd91c9ae9"
      },
      "source": [
        "Y_pred = model.predict(X_test)\n",
        "Y_pred= np.round(Y_pred)\n",
        "print(classification_report(Y_test,Y_pred))"
      ],
      "execution_count": null,
      "outputs": [
        {
          "output_type": "stream",
          "name": "stdout",
          "text": [
            "              precision    recall  f1-score   support\n",
            "\n",
            "           0       0.87      0.70      0.78      1033\n",
            "           1       0.75      0.90      0.82      1033\n",
            "\n",
            "    accuracy                           0.80      2066\n",
            "   macro avg       0.81      0.80      0.80      2066\n",
            "weighted avg       0.81      0.80      0.80      2066\n",
            "\n"
          ]
        }
      ]
    }
  ]
}